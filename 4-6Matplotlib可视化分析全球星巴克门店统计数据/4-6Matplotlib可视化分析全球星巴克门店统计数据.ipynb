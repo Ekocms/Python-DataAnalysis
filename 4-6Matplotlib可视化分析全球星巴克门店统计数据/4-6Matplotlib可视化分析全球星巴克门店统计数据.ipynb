{
 "cells": [
  {
   "cell_type": "markdown",
   "metadata": {
    "pycharm": {
     "name": "#%% md\n"
    }
   },
   "source": [
    "\n",
    "# 一、基本信息\n",
    "\n",
    "1. 实验名称：Matplotlib可视化分析全球星巴克门店统计数据\n",
    "2. 实验学时：2\n",
    "3. 实验类别：基本应用性\n",
    "4. 课程名称：数据分析基础（Python）\n",
    "5. 课程编号：12002CC019\n",
    "\n",
    "\n",
    "# 二、实验目的（预期学习效果）\n",
    "\n",
    "\n",
    "\n",
    "本实验应符合课程总体学习要求，促进以下预期效果的达成：\n",
    "* 掌握Python可视化常用工具，实现Python数据可视化操作，提高数据分析能力。\n",
    "\n",
    "涉及主要KT点包括：\n",
    "* KT23_Matplotlib绘图基础\n",
    "* KT24_Matplotlib设置Pyplot的动态rc参数\n",
    "* KT25_Matplotlib的Pyplot中的常用绘图\n",
    "\n",
    "实验应当促使学生掌握相关KT点，并且在实际数据分析过程当中进行应用。\n",
    "\n",
    "\n",
    "\n",
    "# 三、实验任务及原理\n",
    "\n",
    "\n",
    "\n",
    "本次实验针对一组关于全球星巴克门店的统计数据，通过Matplotlib分析不同国家或地区以及中国不同城市星巴克门店数量的分布情况。\n",
    "\n",
    "# 四、实验环境\n",
    "\n",
    "实验仪器设备：计算机。\n",
    "\n",
    "实验软件：Jupyter Notebook。\n",
    "\n",
    "工具耗材：无。\n",
    "\n",
    "# 五、实验预习任务\n",
    "\n",
    "\n",
    "\n",
    "实验前，应复习本实验涉及的KT点，并完成前次布置的相关练习题目，并阅读相关参考性资料，做好实验前准备。\n",
    "\n",
    "# 六、实验过程（实验方案）\n",
    "\n"
   ]
  },
  {
   "cell_type": "markdown",
   "metadata": {
    "pycharm": {
     "name": "#%% md\n"
    }
   },
   "source": [
    "## 请按照笔记本任务提示，完成相关任务"
   ]
  },
  {
   "cell_type": "markdown",
   "metadata": {
    "pycharm": {
     "name": "#%% md\n"
    }
   },
   "source": [
    "## 导入相关模块并设置"
   ]
  },
  {
   "cell_type": "code",
   "execution_count": 1,
   "metadata": {
    "pycharm": {
     "name": "#%%\n"
    }
   },
   "outputs": [],
   "source": [
    "import pandas as pd\n",
    "import numpy as np\n",
    "from pandas import Series,DataFrame\n",
    "import matplotlib.pyplot as plt\n",
    "plt.rcParams['font.sans-serif'] = ['SimHei'] #用来正常显示中文标签\n",
    "plt.rcParams['axes.unicode_minus']=False #用来正常显示负号\n",
    "%matplotlib inline"
   ]
  },
  {
   "cell_type": "markdown",
   "metadata": {
    "pycharm": {
     "name": "#%% md\n"
    }
   },
   "source": [
    "## 获取数据"
   ]
  },
  {
   "cell_type": "code",
   "execution_count": 2,
   "metadata": {
    "pycharm": {
     "name": "#%%\n"
    }
   },
   "outputs": [
    {
     "data": {
      "text/html": [
       "<div>\n",
       "<style scoped>\n",
       "    .dataframe tbody tr th:only-of-type {\n",
       "        vertical-align: middle;\n",
       "    }\n",
       "\n",
       "    .dataframe tbody tr th {\n",
       "        vertical-align: top;\n",
       "    }\n",
       "\n",
       "    .dataframe thead th {\n",
       "        text-align: right;\n",
       "    }\n",
       "</style>\n",
       "<table border=\"1\" class=\"dataframe\">\n",
       "  <thead>\n",
       "    <tr style=\"text-align: right;\">\n",
       "      <th></th>\n",
       "      <th>Brand</th>\n",
       "      <th>Store Number</th>\n",
       "      <th>Store Name</th>\n",
       "      <th>Ownership Type</th>\n",
       "      <th>Street Address</th>\n",
       "      <th>City</th>\n",
       "      <th>State/Province</th>\n",
       "      <th>Country</th>\n",
       "      <th>Postcode</th>\n",
       "      <th>Phone Number</th>\n",
       "      <th>Timezone</th>\n",
       "      <th>Longitude</th>\n",
       "      <th>Latitude</th>\n",
       "    </tr>\n",
       "  </thead>\n",
       "  <tbody>\n",
       "    <tr>\n",
       "      <th>0</th>\n",
       "      <td>Starbucks</td>\n",
       "      <td>47370-257954</td>\n",
       "      <td>Meritxell, 96</td>\n",
       "      <td>Licensed</td>\n",
       "      <td>Av. Meritxell, 96</td>\n",
       "      <td>Andorra la Vella</td>\n",
       "      <td>7</td>\n",
       "      <td>AD</td>\n",
       "      <td>AD500</td>\n",
       "      <td>376818720</td>\n",
       "      <td>GMT+1:00 Europe/Andorra</td>\n",
       "      <td>1.53</td>\n",
       "      <td>42.51</td>\n",
       "    </tr>\n",
       "    <tr>\n",
       "      <th>1</th>\n",
       "      <td>Starbucks</td>\n",
       "      <td>22331-212325</td>\n",
       "      <td>Ajman Drive Thru</td>\n",
       "      <td>Licensed</td>\n",
       "      <td>1 Street 69, Al Jarf</td>\n",
       "      <td>Ajman</td>\n",
       "      <td>AJ</td>\n",
       "      <td>AE</td>\n",
       "      <td>NaN</td>\n",
       "      <td>NaN</td>\n",
       "      <td>GMT+04:00 Asia/Dubai</td>\n",
       "      <td>55.47</td>\n",
       "      <td>25.42</td>\n",
       "    </tr>\n",
       "    <tr>\n",
       "      <th>2</th>\n",
       "      <td>Starbucks</td>\n",
       "      <td>47089-256771</td>\n",
       "      <td>Dana Mall</td>\n",
       "      <td>Licensed</td>\n",
       "      <td>Sheikh Khalifa Bin Zayed St.</td>\n",
       "      <td>Ajman</td>\n",
       "      <td>AJ</td>\n",
       "      <td>AE</td>\n",
       "      <td>NaN</td>\n",
       "      <td>NaN</td>\n",
       "      <td>GMT+04:00 Asia/Dubai</td>\n",
       "      <td>55.47</td>\n",
       "      <td>25.39</td>\n",
       "    </tr>\n",
       "    <tr>\n",
       "      <th>3</th>\n",
       "      <td>Starbucks</td>\n",
       "      <td>22126-218024</td>\n",
       "      <td>Twofour 54</td>\n",
       "      <td>Licensed</td>\n",
       "      <td>Al Salam Street</td>\n",
       "      <td>Abu Dhabi</td>\n",
       "      <td>AZ</td>\n",
       "      <td>AE</td>\n",
       "      <td>NaN</td>\n",
       "      <td>NaN</td>\n",
       "      <td>GMT+04:00 Asia/Dubai</td>\n",
       "      <td>54.38</td>\n",
       "      <td>24.48</td>\n",
       "    </tr>\n",
       "    <tr>\n",
       "      <th>4</th>\n",
       "      <td>Starbucks</td>\n",
       "      <td>17127-178586</td>\n",
       "      <td>Al Ain Tower</td>\n",
       "      <td>Licensed</td>\n",
       "      <td>Khaldiya Area, Abu Dhabi Island</td>\n",
       "      <td>Abu Dhabi</td>\n",
       "      <td>AZ</td>\n",
       "      <td>AE</td>\n",
       "      <td>NaN</td>\n",
       "      <td>NaN</td>\n",
       "      <td>GMT+04:00 Asia/Dubai</td>\n",
       "      <td>54.54</td>\n",
       "      <td>24.51</td>\n",
       "    </tr>\n",
       "  </tbody>\n",
       "</table>\n",
       "</div>"
      ],
      "text/plain": [
       "       Brand  Store Number        Store Name Ownership Type  \\\n",
       "0  Starbucks  47370-257954     Meritxell, 96       Licensed   \n",
       "1  Starbucks  22331-212325  Ajman Drive Thru       Licensed   \n",
       "2  Starbucks  47089-256771         Dana Mall       Licensed   \n",
       "3  Starbucks  22126-218024        Twofour 54       Licensed   \n",
       "4  Starbucks  17127-178586      Al Ain Tower       Licensed   \n",
       "\n",
       "                    Street Address              City State/Province Country  \\\n",
       "0                Av. Meritxell, 96  Andorra la Vella              7      AD   \n",
       "1             1 Street 69, Al Jarf             Ajman             AJ      AE   \n",
       "2     Sheikh Khalifa Bin Zayed St.             Ajman             AJ      AE   \n",
       "3                  Al Salam Street         Abu Dhabi             AZ      AE   \n",
       "4  Khaldiya Area, Abu Dhabi Island         Abu Dhabi             AZ      AE   \n",
       "\n",
       "  Postcode Phone Number                 Timezone  Longitude  Latitude  \n",
       "0    AD500    376818720  GMT+1:00 Europe/Andorra       1.53     42.51  \n",
       "1      NaN          NaN     GMT+04:00 Asia/Dubai      55.47     25.42  \n",
       "2      NaN          NaN     GMT+04:00 Asia/Dubai      55.47     25.39  \n",
       "3      NaN          NaN     GMT+04:00 Asia/Dubai      54.38     24.48  \n",
       "4      NaN          NaN     GMT+04:00 Asia/Dubai      54.54     24.51  "
      ]
     },
     "execution_count": 2,
     "metadata": {},
     "output_type": "execute_result"
    }
   ],
   "source": [
    "starbucks = pd.read_csv(\"data//directory.csv\")\n",
    "starbucks.head()"
   ]
  },
  {
   "cell_type": "markdown",
   "metadata": {
    "pycharm": {
     "name": "#%% md\n"
    }
   },
   "source": [
    "## 数据分析与可视化"
   ]
  },
  {
   "cell_type": "code",
   "execution_count": 3,
   "metadata": {
    "pycharm": {
     "name": "#%%\n"
    }
   },
   "outputs": [
    {
     "name": "stdout",
     "output_type": "stream",
     "text": [
      "<class 'pandas.core.frame.DataFrame'>\n",
      "RangeIndex: 25600 entries, 0 to 25599\n",
      "Data columns (total 13 columns):\n",
      " #   Column          Non-Null Count  Dtype  \n",
      "---  ------          --------------  -----  \n",
      " 0   Brand           25600 non-null  object \n",
      " 1   Store Number    25600 non-null  object \n",
      " 2   Store Name      25600 non-null  object \n",
      " 3   Ownership Type  25600 non-null  object \n",
      " 4   Street Address  25598 non-null  object \n",
      " 5   City            25585 non-null  object \n",
      " 6   State/Province  25600 non-null  object \n",
      " 7   Country         25600 non-null  object \n",
      " 8   Postcode        24078 non-null  object \n",
      " 9   Phone Number    18739 non-null  object \n",
      " 10  Timezone        25600 non-null  object \n",
      " 11  Longitude       25599 non-null  float64\n",
      " 12  Latitude        25599 non-null  float64\n",
      "dtypes: float64(2), object(11)\n",
      "memory usage: 2.5+ MB\n"
     ]
    }
   ],
   "source": [
    "starbucks.info()"
   ]
  },
  {
   "cell_type": "code",
   "execution_count": 4,
   "metadata": {
    "pycharm": {
     "name": "#%%\n"
    }
   },
   "outputs": [
    {
     "data": {
      "text/plain": [
       "Brand                0\n",
       "Store Number         0\n",
       "Store Name           0\n",
       "Ownership Type       0\n",
       "Street Address       2\n",
       "City                15\n",
       "State/Province       0\n",
       "Country              0\n",
       "Postcode          1522\n",
       "Phone Number      6861\n",
       "Timezone             0\n",
       "Longitude            1\n",
       "Latitude             1\n",
       "dtype: int64"
      ]
     },
     "execution_count": 4,
     "metadata": {},
     "output_type": "execute_result"
    }
   ],
   "source": [
    "starbucks.isnull().sum()"
   ]
  },
  {
   "cell_type": "code",
   "execution_count": 5,
   "metadata": {
    "pycharm": {
     "name": "#%%\n"
    }
   },
   "outputs": [
    {
     "data": {
      "text/plain": [
       "Brand                0\n",
       "Store Number         0\n",
       "Store Name           0\n",
       "Ownership Type       0\n",
       "Street Address       2\n",
       "City                 0\n",
       "State/Province       0\n",
       "Country              0\n",
       "Postcode          1507\n",
       "Phone Number      6861\n",
       "Timezone             0\n",
       "Longitude            1\n",
       "Latitude             1\n",
       "dtype: int64"
      ]
     },
     "execution_count": 5,
     "metadata": {},
     "output_type": "execute_result"
    }
   ],
   "source": [
    "star = starbucks.dropna(how='any',subset=['City'])\n",
    "star.isnull().sum()"
   ]
  },
  {
   "cell_type": "code",
   "execution_count": 6,
   "metadata": {
    "pycharm": {
     "name": "#%%\n"
    }
   },
   "outputs": [
    {
     "name": "stdout",
     "output_type": "stream",
     "text": [
      "星巴克旗下品牌有：\n",
      " Starbucks                25249\n",
      "Teavana                    348\n",
      "Evolution Fresh              2\n",
      "Coffee House Holdings        1\n",
      "Name: Brand, dtype: int64\n",
      "-------------------------\n",
      "(25249, 13)\n"
     ]
    }
   ],
   "source": [
    "# 星巴克旗下有哪些品牌？\n",
    "print(\"星巴克旗下品牌有：\\n\",starbucks.Brand.value_counts())\n",
    "# 把重心放在星巴克的咖啡门店上面，所以只查看Brand是Starbucks的数据集内容。\n",
    "coffee = starbucks[starbucks.Brand=='Starbucks']\n",
    "# 全世界一共有多少家星巴克门店？\n",
    "print(\"-------------------------\")\n",
    "print(coffee.shape)"
   ]
  },
  {
   "cell_type": "code",
   "execution_count": 7,
   "metadata": {
    "pycharm": {
     "name": "#%%\n"
    }
   },
   "outputs": [
    {
     "name": "stdout",
     "output_type": "stream",
     "text": [
      "全世界一共多少个国家或地区开设了星巴克门店: 73\n",
      "排名前10的国家或地区：\n",
      " Country\n",
      "US    13608\n",
      "CN     2734\n",
      "CA     1468\n",
      "JP     1237\n",
      "KR      993\n",
      "GB      901\n",
      "MX      579\n",
      "TW      394\n",
      "TR      326\n",
      "PH      298\n",
      "dtype: int64\n"
     ]
    }
   ],
   "source": [
    "df = starbucks.groupby([\"Country\"]).size()\n",
    "print(\"全世界一共多少个国家或地区开设了星巴克门店:\",df.size)\n",
    "df1 = df.sort_values( ascending=False)\n",
    "print(\"排名前10的国家或地区：\\n\",df1.head(10))"
   ]
  },
  {
   "cell_type": "code",
   "execution_count": 8,
   "metadata": {
    "pycharm": {
     "name": "#%%\n"
    }
   },
   "outputs": [
    {
     "name": "stdout",
     "output_type": "stream",
     "text": [
      "排名后10的国家或地区：\n",
      " Country\n",
      "BO    4\n",
      "AZ    4\n",
      "TT    3\n",
      "ZA    3\n",
      "SK    3\n",
      "CW    3\n",
      "AW    3\n",
      "MC    2\n",
      "LU    2\n",
      "AD    1\n",
      "dtype: int64\n"
     ]
    }
   ],
   "source": [
    "# 星巴克门店数排名后10的国家或地区\n",
    "# df2 = df.sort_values()\n",
    "# df2.head(10)\n",
    "print(\"排名后10的国家或地区：\\n\",df1.tail(10))"
   ]
  },
  {
   "cell_type": "markdown",
   "metadata": {},
   "source": [
    "unique()：是以数组形式（numpy.ndarray）返回列的所有唯一值（特征的所有唯一值）\n",
    "\n",
    "nunique()：返回dataframe中列的唯一值的个数,也可用于series"
   ]
  },
  {
   "cell_type": "code",
   "execution_count": 9,
   "metadata": {
    "pycharm": {
     "name": "#%%\n"
    }
   },
   "outputs": [
    {
     "data": {
      "text/plain": [
       "73"
      ]
     },
     "execution_count": 9,
     "metadata": {},
     "output_type": "execute_result"
    }
   ],
   "source": [
    "\n",
    "# 全世界一共多少个国家或地区开设了星巴克门店？\n",
    "coffee.Country.nunique()"
   ]
  },
  {
   "cell_type": "markdown",
   "metadata": {
    "pycharm": {
     "name": "#%% md\n"
    }
   },
   "source": [
    "## **任务1** Matplotlib参数设置\n",
    "为Matplotlib绘图内容提前设置好个性化参数。\n",
    "\n",
    "\n",
    "## **问题1:** 设置Pyplot的动态rc参数\n",
    "\n",
    "\n",
    "\n",
    "## 操作说明：\n",
    "应当调用plt当中rcParams来进行设定：\n",
    "- 首先设定字体大小`font.size`为15\n",
    "- 而后设定`font.family`为`font.family`，保证中文字体显示正常\n"
   ]
  },
  {
   "cell_type": "code",
   "execution_count": 10,
   "metadata": {
    "pycharm": {
     "name": "#%%\n"
    }
   },
   "outputs": [],
   "source": [
    "# 首先设定字体大小`font.size`为15\n",
    "plt.rcParams['font.size'] = 15\n",
    "# 而后设定`font.family`为`SimHei`，保证中文字体显示正常\n",
    "plt.rcParams['font.family'] = 'SimHei'"
   ]
  },
  {
   "cell_type": "markdown",
   "metadata": {
    "pycharm": {
     "name": "#%% md\n"
    }
   },
   "source": [
    "## **问题2:** 通过柱状图绘制排名前10的分布情况\n",
    "\n",
    "\n",
    "## 操作说明：\n",
    "直接调用pandas当中dataframe的作图方法，实际上pandas作图仍然依赖matplotlib。此处，应当设置`df_top_10`的plot当中`kind`正确类型，而柱状图对应的类型为`bar`。\n",
    "\n"
   ]
  },
  {
   "cell_type": "code",
   "execution_count": 11,
   "metadata": {
    "pycharm": {
     "name": "#%%\n"
    }
   },
   "outputs": [
    {
     "data": {
      "text/plain": [
       "<AxesSubplot:xlabel='Country'>"
      ]
     },
     "execution_count": 11,
     "metadata": {},
     "output_type": "execute_result"
    },
    {
     "data": {
      "image/png": "[encoded data removed]",
      "text/plain": [
       "<Figure size 432x288 with 1 Axes>"
      ]
     },
     "metadata": {
      "needs_background": "light"
     },
     "output_type": "display_data"
    }
   ],
   "source": [
    "df_top_10 = df1.head(10)\n",
    "# 设置`df_top_10`的plot当中`kind`正确类型，而柱状图对应的类型为`bar`。\n",
    "df_top_10.plot(kind='bar',rot=0)"
   ]
  },
  {
   "cell_type": "markdown",
   "metadata": {
    "pycharm": {
     "name": "#%% md\n"
    }
   },
   "source": [
    "## **问题3:** 设置图形标题\n",
    "\n",
    "\n",
    "## 操作说明：\n",
    "需要调用`plt`当中的`title()`方法，为图形设置标题。\n",
    "\n"
   ]
  },
  {
   "cell_type": "code",
   "execution_count": 12,
   "metadata": {
    "pycharm": {
     "name": "#%%\n"
    }
   },
   "outputs": [
    {
     "data": {
      "text/plain": [
       "Text(0.5, 1.0, '星巴克门店数排名前10的国家或地区')"
      ]
     },
     "execution_count": 12,
     "metadata": {},
     "output_type": "execute_result"
    },
    {
     "data": {
      "image/png": "[encoded data removed]",
      "text/plain": [
       "<Figure size 432x288 with 1 Axes>"
      ]
     },
     "metadata": {
      "needs_background": "light"
     },
     "output_type": "display_data"
    }
   ],
   "source": [
    "# 调用`plt`当中的`title()`方法，为图形设置标题。\n",
    "plt.title('星巴克门店数排名前10的国家或地区')"
   ]
  },
  {
   "cell_type": "markdown",
   "metadata": {
    "pycharm": {
     "name": "#%% md\n"
    }
   },
   "source": [
    "## **问题4:** 设置轴标签\n",
    "\n",
    "\n",
    "## 操作说明：\n",
    "- 使用plt的ylabel方法为y轴设置标签\n",
    "- 使用plt的xlabel方法为x轴设置标签\n",
    "\n"
   ]
  },
  {
   "cell_type": "code",
   "execution_count": 13,
   "metadata": {
    "pycharm": {
     "name": "#%%\n"
    }
   },
   "outputs": [
    {
     "data": {
      "text/plain": [
       "Text(0.5, 0, 'Countries')"
      ]
     },
     "execution_count": 13,
     "metadata": {},
     "output_type": "execute_result"
    },
    {
     "data": {
      "image/png": "[encoded data removed]",
      "text/plain": [
       "<Figure size 432x288 with 1 Axes>"
      ]
     },
     "metadata": {
      "needs_background": "light"
     },
     "output_type": "display_data"
    }
   ],
   "source": [
    "# 使用plt的ylabel方法为y轴设置标签\n",
    "plt.ylabel('Store Counts')\n",
    "# 使用plt的xlabel方法为x轴设置标签\n",
    "plt.xlabel('Countries')"
   ]
  },
  {
   "cell_type": "code",
   "execution_count": 14,
   "metadata": {
    "pycharm": {
     "name": "#%%\n"
    }
   },
   "outputs": [],
   "source": [
    "# 获取星巴克门店数排名后10的国家或地区\n",
    "df_tail_10 = df1.tail(10)\n"
   ]
  },
  {
   "cell_type": "markdown",
   "metadata": {},
   "source": [
    "## **任务2** Matplotlib绘图 \n",
    "利用Matplotlib绘制相关可视化图形。 \n",
    "\n",
    "## **问题5:** 绘制星巴克门店数排名后10的国家或地区的柱状图\n",
    "\n",
    "\n",
    "## 操作说明：\n",
    "- 绘制星巴克门店数排名后10的国家或地区的柱状图\n",
    "- 为图形添加标题\n",
    "- 为y轴添加标签\n",
    "- 为x轴添加标签\n",
    "\n"
   ]
  },
  {
   "cell_type": "code",
   "execution_count": 15,
   "metadata": {
    "pycharm": {
     "name": "#%%\n"
    }
   },
   "outputs": [
    {
     "data": {
      "text/plain": [
       "Text(0.5, 0, 'Countries')"
      ]
     },
     "execution_count": 15,
     "metadata": {},
     "output_type": "execute_result"
    },
    {
     "data": {
      "image/png": "[encoded data removed]",
      "text/plain": [
       "<Figure size 432x288 with 1 Axes>"
      ]
     },
     "metadata": {
      "needs_background": "light"
     },
     "output_type": "display_data"
    }
   ],
   "source": [
    "# 绘制星巴克门店数排名后10的国家或地区的柱状图\n",
    "df_tail_10.plot(kind='bar',rot=0)\n",
    "# 为图形添加标题\n",
    "plt.title('星巴克门店数排名后10的国家或地区')\n",
    "# 为y轴添加标签\n",
    "plt.ylabel('Store Counts')\n",
    "# 为x轴添加标签\n",
    "plt.xlabel('Countries')"
   ]
  },
  {
   "cell_type": "markdown",
   "metadata": {
    "pycharm": {
     "name": "#%% md\n"
    }
   },
   "source": [
    "## 获取全世界星巴克门店数量排名前10的城市"
   ]
  },
  {
   "cell_type": "code",
   "execution_count": 16,
   "metadata": {
    "pycharm": {
     "name": "#%%\n"
    }
   },
   "outputs": [
    {
     "name": "stdout",
     "output_type": "stream",
     "text": [
      "全世界星巴克门店数量排名前10的城市：\n",
      " 上海市            542\n",
      "Seoul          243\n",
      "北京市            234\n",
      "New York       232\n",
      "London         216\n",
      "Toronto        192\n",
      "Chicago        180\n",
      "Mexico City    180\n",
      "Seattle        156\n",
      "Las Vegas      156\n",
      "Name: City, dtype: int64\n"
     ]
    }
   ],
   "source": [
    "star = starbucks.dropna(how='any',subset=['City'])\n",
    "star.isnull().sum()\n",
    "count_starbucks_city = star.City.value_counts()\n",
    "print(\"全世界星巴克门店数量排名前10的城市：\\n\",count_starbucks_city.head(10))"
   ]
  },
  {
   "cell_type": "code",
   "execution_count": 17,
   "metadata": {
    "pycharm": {
     "name": "#%%\n"
    }
   },
   "outputs": [],
   "source": [
    "\n",
    "count_starbucks_city =star.City.value_counts()\n",
    "city_top10 = count_starbucks_city.head(10)\n"
   ]
  },
  {
   "cell_type": "markdown",
   "metadata": {},
   "source": [
    "## **问题6:** 绘制拥有星巴克门店最多的10个城市的柱状图\n",
    "\n",
    "\n",
    "## 操作说明：\n",
    "- 绘制星巴克门店数排名后10的国家或地区的柱状图\n",
    "- 为图形添加标题\n",
    "- 为y轴添加标签\n",
    "- 为x轴添加标签\n",
    "\n"
   ]
  },
  {
   "cell_type": "code",
   "execution_count": 18,
   "metadata": {
    "pycharm": {
     "name": "#%%\n"
    }
   },
   "outputs": [
    {
     "data": {
      "text/plain": [
       "Text(0.5, 0, 'Cities')"
      ]
     },
     "execution_count": 18,
     "metadata": {},
     "output_type": "execute_result"
    },
    {
     "data": {
      "image/png": "[encoded data removed]",
      "text/plain": [
       "<Figure size 432x288 with 1 Axes>"
      ]
     },
     "metadata": {
      "needs_background": "light"
     },
     "output_type": "display_data"
    }
   ],
   "source": [
    "\n",
    "# 绘制拥有星巴克门店最多的10个城市的柱状图\n",
    "city_top10.plot(kind='bar',rot=30)\n",
    "# 为图形添加标题\n",
    "plt.title('拥有星巴克门店最多的10个城市')\n",
    "# 为y轴添加标签\n",
    "plt.ylabel('Store Counts')\n",
    "# 为x轴添加标签\n",
    "plt.xlabel('Cities')"
   ]
  },
  {
   "cell_type": "markdown",
   "metadata": {},
   "source": [
    "可以看到数据不是很规范，城市名称既有中文又有英文，而且上海被存储为ShangHai和Shanghai。\n",
    "对于上海的问题，我们将拼音全部改为小写即可；\n",
    "对于中文和拼音混用的问题，可以使用相应的python库（如库pinyin）将中文转换为拼音后作统计。"
   ]
  },
  {
   "cell_type": "code",
   "execution_count": 19,
   "metadata": {
    "pycharm": {
     "name": "#%%\n"
    }
   },
   "outputs": [
    {
     "name": "stdout",
     "output_type": "stream",
     "text": [
      "City\n",
      "shang hai     542\n",
      "bei jing      234\n",
      "hang zhou     117\n",
      "shen zhen     113\n",
      "guang zhou    106\n",
      "hong kong     104\n",
      "cheng du       98\n",
      "su zhou        90\n",
      "nan jing       73\n",
      "wu han         67\n",
      "dtype: int64\n"
     ]
    }
   ],
   "source": [
    "from pypinyin import lazy_pinyin\n",
    "import pandas as pd\n",
    "\n",
    "PF=pd.read_csv(f\"data//directory.csv\",header=0,dtype=str)\n",
    "\n",
    "#选择中国的数据\n",
    "df = PF.loc[PF[\"Country\"]==\"CN\"]\n",
    "\n",
    "\n",
    "df1 = df.copy()\n",
    "\n",
    "# df1.shape\n",
    "# df2 = df1.copy()\n",
    "\n",
    "df1[\"City\"] = df1[\"City\"].str.replace(\"市\",\"\")  #去掉“市”\n",
    "\n",
    "\n",
    "#将汉字城市名改为拼音\n",
    "#df1[\"City\"] = df1[\"City\"].apply(lambda x:pinyin.get(x, format=\"strip\", delimiter=\"\")[0:-3]) #去掉“市”的拼音\n",
    "df1[\"City\"]=df1[\"City\"].apply(lambda x:\" \".join(lazy_pinyin(x)))\n",
    "\n",
    "#将城市名改为小写\n",
    "df1[\"City\"] = df1[\"City\"].str.lower()\n",
    "\n",
    "#df1.to_csv(f\"1.csv\", mode=\"w+\", encoding=\"utf-8-sig\", header=True,index=False)\n",
    "#统计每个城市的星巴克数量\n",
    "df1 = df1.groupby([\"City\"]).size().sort_values( ascending=False)\n",
    "print(df1.head(10))"
   ]
  },
  {
   "cell_type": "markdown",
   "metadata": {},
   "source": [
    "这里使用到了DataFrame.apply(func)方法，该方法将函数func应用到整个DataFrame上，\n",
    "也可以通过指定axis参数来指定每一行或每一列的数据应用函数func。\n",
    "\n",
    "接下来使用reset_index方法将上一步得到的数据封装到一个新的DataFrame中排序即可。"
   ]
  },
  {
   "cell_type": "code",
   "execution_count": 20,
   "metadata": {
    "pycharm": {
     "name": "#%%\n"
    }
   },
   "outputs": [
    {
     "data": {
      "text/plain": [
       "Text(0.5, 0, 'Cities')"
      ]
     },
     "execution_count": 20,
     "metadata": {},
     "output_type": "execute_result"
    },
    {
     "data": {
      "image/png": "[encoded data removed]",
      "text/plain": [
       "<Figure size 576x432 with 1 Axes>"
      ]
     },
     "metadata": {
      "needs_background": "light"
     },
     "output_type": "display_data"
    }
   ],
   "source": [
    "plt.figure(1,figsize=(8,6))\n",
    "df1.head(10).plot(kind='bar',rot=30)\n",
    "plt.title('中国拥有星巴克门店最多的10个城市')\n",
    "plt.ylabel('Store Counts')\n",
    "plt.xlabel('Cities')\n"
   ]
  },
  {
   "cell_type": "markdown",
   "metadata": {},
   "source": [
    "Company Owned：公司独资直营，这也是星巴克门店最多的经营方式\n",
    "\n",
    "Licensed: 许可经营\n",
    "\n",
    "Joint Venture: 合资经营，比如：国内江浙沪地区的星巴克最早就是由星巴克与统一集团联手经营\n",
    "\n",
    "Franchise：授权经营，类似麦当劳的经营模式\n"
   ]
  },
  {
   "cell_type": "markdown",
   "metadata": {},
   "source": [
    "## **问题7:** 绘制星巴克门店所有权类型饼状图\n",
    "\n",
    "## 操作说明：\n",
    "饼状图应当将plot当中的`kind`设置为`pie`\n",
    "\n"
   ]
  },
  {
   "cell_type": "code",
   "execution_count": 21,
   "metadata": {
    "pycharm": {
     "name": "#%%\n"
    }
   },
   "outputs": [
    {
     "data": {
      "text/plain": [
       "<AxesSubplot:title={'center':'星巴克门店所有权类型'}, ylabel='Ownership Type'>"
      ]
     },
     "execution_count": 21,
     "metadata": {},
     "output_type": "execute_result"
    },
    {
     "data": {
      "image/png": "[encoded data removed]",
      "text/plain": [
       "<Figure size 576x432 with 1 Axes>"
      ]
     },
     "metadata": {},
     "output_type": "display_data"
    }
   ],
   "source": [
    "\n",
    "plt.figure(1,figsize=(8,6))\n",
    "ownership = star['Ownership Type'].value_counts()\n",
    "plt.title('星巴克门店所有权类型')\n",
    "# 绘制星巴克门店所有权类型饼状图\n",
    "ownership.plot(kind='pie')"
   ]
  },
  {
   "cell_type": "markdown",
   "metadata": {
    "pycharm": {
     "name": "#%% md\n"
    }
   },
   "source": [
    "# 七、实验课后任务\n",
    "\n",
    "\n",
    "\n",
    "学生应当按照操作说明指导完成本次实验涉及相关任务，完成本次Jupyter Notebook实验报告以后，应将本实验报告文件（.ipynb）按照授课教师指定方式进行上传。\n",
    "\n",
    "\n",
    "# 八、实验考核\n",
    "\n",
    "实验满分100分，共2个任务，7个问题，问题1-问题6每个14分，问题7分数16分。按照学生完成问题的程度、代码运行结果、分析结果等质量标准酌情给出对应分数。\n",
    "\n",
    "\n",
    "# 九、实验资源\n",
    "\n",
    "\n",
    "本实验内容不可能涵盖Matplotlib中所有的特性和图表类型。就像我们之前介绍到的其他工具一样，使用IPython的TAB自动补全以及帮助功能（参见[IPython的帮助和文档](01.01-Help-And-Documentation.ipynb)）对于学习Matplotlib的API是非常有帮助的。[Matplotlib在线文档](http://matplotlib.org/)也是一个很有帮助的参考内容。建议去浏览[Matplotlib画廊](http://matplotlib.org/gallery.html)：上面展示了上百个不同种类图表的缩略图，每个图都有一个超链接能导航到创建这个图表的Python代码片段页面。使用上述方法可以直观的浏览和学习许多不同类型的图表样式和可视化技巧。\n",
    "\n",
    "\n"
   ]
  }
 ],
 "metadata": {
  "jupytext": {
   "cell_metadata_filter": "-all",
   "formats": "ipynb,md",
   "notebook_metadata_filter": "-all"
  },
  "kernelspec": {
   "display_name": "Python 3 (ipykernel)",
   "language": "python",
   "name": "python3"
  },
  "language_info": {
   "codemirror_mode": {
    "name": "ipython",
    "version": 3
   },
   "file_extension": ".py",
   "mimetype": "text/x-python",
   "name": "python",
   "nbconvert_exporter": "python",
   "pygments_lexer": "ipython3",
   "version": "3.9.7"
  }
 },
 "nbformat": 4,
 "nbformat_minor": 2
}
