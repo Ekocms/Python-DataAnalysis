{
 "cells": [
  {
   "cell_type": "markdown",
   "metadata": {},
   "source": [
    "<h1 style='background: black; border:1; color: white'><center>Covid-19 Vaccination Drive</center></h1>\n",
    "Covid-19疫苗接种活动"
   ]
  },
  {
   "cell_type": "markdown",
   "metadata": {},
   "source": [
    "<h2 style='background: black; border:1; color: white'><center>Acknowledgement</center></h2>\n",
    "\n",
    "This Notebook would not have been possible without the dataset provided by [@Gabriel Preda](https://www.kaggle.com/gpreda). If you haven't already, I strongly encourage you to upvote his dataset on [Covid-19 world vaccination progress](https://www.kaggle.com/gpreda/covid-world-vaccination-progress).\n",
    "\n",
    "如果没有@Gabriel Preda提供的数据集，这本笔记本是不可能存在的。如果你还没有为他投票，我强烈建议你为他关于Covid-19世界疫苗接种进展的数据集投上一票。\n"
   ]
  },
  {
   "cell_type": "markdown",
   "metadata": {},
   "source": [
    "<h2 style='background: black; border:1; color: white'><center>Basic features of the data set</center></h2>\n",
    "\n",
    "数据集的基本特征\n",
    "\n",
    "This is a basic exploratory data analysis of the Covid-19 vaccination drive that’s going around the world. Since past 11 months we have been sitting in our rooms and now we are getting some hopes in terms of COVID-19 vaccinations. \n",
    "\n",
    "这是对正在世界各地开展的Covid-19疫苗接种活动的基本探索性数据分析。自过去11个月以来，我们一直坐在房间里，现在我们在COVID-19疫苗接种方面得到了一些希望。\n",
    "\n",
    "* This data set starts on 2020-12-13, which means the vaccination according to it starts on this specific date and captures the data upto 2021-02-13.\n",
    "\n",
    "If you like this project then don't forget to **upvote**...\n",
    "\n",
    "*这个数据集从2020-12-13开始，这意味着根据它的疫苗接种从这个特定的日期开始，并捕捉到2021-02-13之前的数据。\n",
    "\n",
    "* Till date the vaccination drive is going around the world in 78 different countries with more than 10 types of vaccines are being used. \n",
    "\n",
    "*到目前为止，该疫苗接种活动正在全球78个不同的国家进行，使用的疫苗种类超过10种。\n",
    "\n",
    "Hopefully this drive will bring success and save millions of lives around the world. \n",
    "\n",
    "希望这一行动能带来成功，拯救全世界数百万人的生命。\n",
    "\n",
    "I have done an exploratory data analysis with 3D/2D graphs and animations...\n",
    "\n",
    "我已经用3D/2D图表和动画做了一个探索性的数据分析...\n",
    "\n",
    "\n"
   ]
  },
  {
   "cell_type": "markdown",
   "metadata": {},
   "source": [
    "<h2 style='background: black; border:1; color: white'><center>Table of contents </center></h2>\n",
    "\n",
    "\n",
    "* [Import](#chapter1)\n",
    "\n",
    "导入\n",
    "\n",
    "* [Data Cleaning](#chapter2)\n",
    "\n",
    "数据清理\n",
    "   \n",
    "    * [Some features](#chapter3)\n",
    "  \n",
    "    一些功能\n",
    "\n",
    "* [Data visualization](#chapter4)\n",
    "\n",
    "数据可视化\n",
    "   \n",
    "    * [Word Art of countries](#chapter5)\n",
    "    \n",
    "    国家的文字艺术\n",
    "\n",
    "* [Total vaccinated till date](#chapter6)\n",
    "\n",
    "到目前为止的总接种量\n",
    "* [Country wise daily vaccination](#chapter7)\n",
    "\n",
    "按国家划分的每日疫苗接种量\n",
    "\n",
    "* [Plot till date Function](#chapter23)\n",
    "\n",
    "到目前为止的图示功能\n",
    "    \n",
    "    * [People vaccinated vs people fully vaccinated in the world](#chapter24)\n",
    "    \n",
    "    世界上已接种疫苗的人与完全接种疫苗的人的对比\n",
    "    \n",
    "    * [ People vaccinated vs people fully vaccinated per hundred in the world](#chapter25)\n",
    "    \n",
    "    世界上每百人的接种人数与完全接种人数的对比\n",
    "\n",
    "* [Function for Pie-Plot](#chapter20)\n",
    "\n",
    "饼状图的功能\n",
    "    \n",
    "    * [Most used vaccine](#chapter8)\n",
    "    \n",
    "    使用最多的疫苗\n",
    "    \n",
    "    * [Most frequent Sources](#chapter9)\n",
    "    \n",
    "    最常见的来源\n",
    "    \n",
    "    * [Word art of Vaccines](#chapter10)\n",
    "    \n",
    "    疫苗的文字艺术\n",
    "\n",
    "* [Daily vaccination trend per million](#chapter11)\n",
    "\n",
    "每百万人的每日接种趋势\n",
    "\n",
    "* [Total vaccinated - India vs USA](#chapter12)\n",
    "\n",
    "接种总数 - 印度与美国\n",
    "\n",
    "* [Function for Maps](#chapter21)\n",
    "\n",
    "地图的功能\n",
    "    \n",
    "    * [Most vaccinated country](#chapter13)\n",
    "    \n",
    "    接种疫苗最多的国家\n",
    "    \n",
    "    * [Vaccines Used in Different countries](#chapter14)\n",
    "    \n",
    "    不同国家使用的疫苗\n",
    "    \n",
    "    * [People fully vaccinated in Different countries](#chapter15)\n",
    "    \n",
    "    不同国家完全接种疫苗的人数\n",
    "\n",
    "* [Function for Animation](#chapter22)\n",
    "\n",
    "动态功能\n",
    "\n",
    "    * [Animation of daily vaccinations through January 2021 in different countries](#chapter16)\n",
    "    \n",
    "    不同国家到2021年1月的每日疫苗接种量动画\n",
    "    \n",
    "    * [Animation of daily vaccinations per million through January 2021 in different countries](#chapter17)\n",
    "    \n",
    "    不同国家到2021年1月每百万人每日接种疫苗的动画\n",
    "\n",
    "* [Date vs People Vaccinated vs People Fully Vaccinated | 3D](#chapter18)\n",
    "\n",
    "日期与接种人数与完全接种人数的关系｜3D\n",
    "\n",
    "* [Corelation Heatmap](#chapter19)\n",
    "\n",
    "相关热图"
   ]
  },
  {
   "cell_type": "markdown",
   "metadata": {},
   "source": [
    "# Import : <a class=\"anchor\" id=\"chapter1\"></a>\n",
    "导入"
   ]
  },
  {
   "cell_type": "code",
   "execution_count": 1,
   "metadata": {
    "_cell_guid": "b1076dfc-b9ad-4769-8c92-a6c4dae69d19",
    "_uuid": "8f2839f25d086af736a60e9eeb907d3b93b6e0e5"
   },
   "outputs": [],
   "source": [
    "import pandas as pd\n",
    "import numpy as np\n",
    "import matplotlib.pyplot as plt\n",
    "import plotly.express as px\n",
    "import plotly.graph_objects as go\n",
    "import matplotlib.patches as mpatches\n",
    "from plotly.subplots import make_subplots\n",
    "from wordcloud import WordCloud\n",
    "import seaborn as sns  \n",
    "sns.set(color_codes = True)\n",
    "sns.set(style=\"whitegrid\")\n",
    "import plotly.figure_factory as ff\n",
    "from plotly.colors import n_colors"
   ]
  },
  {
   "cell_type": "code",
   "execution_count": 2,
   "metadata": {},
   "outputs": [
    {
     "ename": "FileNotFoundError",
     "evalue": "[Errno 2] File ../input/covid-world-vaccination-progress/country_vaccinations.csv does not exist: '../input/covid-world-vaccination-progress/country_vaccinations.csv'",
     "output_type": "error",
     "traceback": [
      "\u001b[1;31m---------------------------------------------------------------------------\u001b[0m",
      "\u001b[1;31mFileNotFoundError\u001b[0m                         Traceback (most recent call last)",
      "\u001b[1;32m<ipython-input-2-d0072c5f2d9c>\u001b[0m in \u001b[0;36m<module>\u001b[1;34m\u001b[0m\n\u001b[1;32m----> 1\u001b[1;33m \u001b[0mdf\u001b[0m \u001b[1;33m=\u001b[0m \u001b[0mpd\u001b[0m\u001b[1;33m.\u001b[0m\u001b[0mread_csv\u001b[0m\u001b[1;33m(\u001b[0m\u001b[1;34m'../input/covid-world-vaccination-progress/country_vaccinations.csv'\u001b[0m\u001b[1;33m)\u001b[0m\u001b[1;33m\u001b[0m\u001b[1;33m\u001b[0m\u001b[0m\n\u001b[0m",
      "\u001b[1;32md:\\Users\\K\\anaconda3\\lib\\site-packages\\pandas\\io\\parsers.py\u001b[0m in \u001b[0;36mparser_f\u001b[1;34m(filepath_or_buffer, sep, delimiter, header, names, index_col, usecols, squeeze, prefix, mangle_dupe_cols, dtype, engine, converters, true_values, false_values, skipinitialspace, skiprows, skipfooter, nrows, na_values, keep_default_na, na_filter, verbose, skip_blank_lines, parse_dates, infer_datetime_format, keep_date_col, date_parser, dayfirst, cache_dates, iterator, chunksize, compression, thousands, decimal, lineterminator, quotechar, quoting, doublequote, escapechar, comment, encoding, dialect, error_bad_lines, warn_bad_lines, delim_whitespace, low_memory, memory_map, float_precision)\u001b[0m\n\u001b[0;32m    674\u001b[0m         )\n\u001b[0;32m    675\u001b[0m \u001b[1;33m\u001b[0m\u001b[0m\n\u001b[1;32m--> 676\u001b[1;33m         \u001b[1;32mreturn\u001b[0m \u001b[0m_read\u001b[0m\u001b[1;33m(\u001b[0m\u001b[0mfilepath_or_buffer\u001b[0m\u001b[1;33m,\u001b[0m \u001b[0mkwds\u001b[0m\u001b[1;33m)\u001b[0m\u001b[1;33m\u001b[0m\u001b[1;33m\u001b[0m\u001b[0m\n\u001b[0m\u001b[0;32m    677\u001b[0m \u001b[1;33m\u001b[0m\u001b[0m\n\u001b[0;32m    678\u001b[0m     \u001b[0mparser_f\u001b[0m\u001b[1;33m.\u001b[0m\u001b[0m__name__\u001b[0m \u001b[1;33m=\u001b[0m \u001b[0mname\u001b[0m\u001b[1;33m\u001b[0m\u001b[1;33m\u001b[0m\u001b[0m\n",
      "\u001b[1;32md:\\Users\\K\\anaconda3\\lib\\site-packages\\pandas\\io\\parsers.py\u001b[0m in \u001b[0;36m_read\u001b[1;34m(filepath_or_buffer, kwds)\u001b[0m\n\u001b[0;32m    446\u001b[0m \u001b[1;33m\u001b[0m\u001b[0m\n\u001b[0;32m    447\u001b[0m     \u001b[1;31m# Create the parser.\u001b[0m\u001b[1;33m\u001b[0m\u001b[1;33m\u001b[0m\u001b[1;33m\u001b[0m\u001b[0m\n\u001b[1;32m--> 448\u001b[1;33m     \u001b[0mparser\u001b[0m \u001b[1;33m=\u001b[0m \u001b[0mTextFileReader\u001b[0m\u001b[1;33m(\u001b[0m\u001b[0mfp_or_buf\u001b[0m\u001b[1;33m,\u001b[0m \u001b[1;33m**\u001b[0m\u001b[0mkwds\u001b[0m\u001b[1;33m)\u001b[0m\u001b[1;33m\u001b[0m\u001b[1;33m\u001b[0m\u001b[0m\n\u001b[0m\u001b[0;32m    449\u001b[0m \u001b[1;33m\u001b[0m\u001b[0m\n\u001b[0;32m    450\u001b[0m     \u001b[1;32mif\u001b[0m \u001b[0mchunksize\u001b[0m \u001b[1;32mor\u001b[0m \u001b[0miterator\u001b[0m\u001b[1;33m:\u001b[0m\u001b[1;33m\u001b[0m\u001b[1;33m\u001b[0m\u001b[0m\n",
      "\u001b[1;32md:\\Users\\K\\anaconda3\\lib\\site-packages\\pandas\\io\\parsers.py\u001b[0m in \u001b[0;36m__init__\u001b[1;34m(self, f, engine, **kwds)\u001b[0m\n\u001b[0;32m    878\u001b[0m             \u001b[0mself\u001b[0m\u001b[1;33m.\u001b[0m\u001b[0moptions\u001b[0m\u001b[1;33m[\u001b[0m\u001b[1;34m\"has_index_names\"\u001b[0m\u001b[1;33m]\u001b[0m \u001b[1;33m=\u001b[0m \u001b[0mkwds\u001b[0m\u001b[1;33m[\u001b[0m\u001b[1;34m\"has_index_names\"\u001b[0m\u001b[1;33m]\u001b[0m\u001b[1;33m\u001b[0m\u001b[1;33m\u001b[0m\u001b[0m\n\u001b[0;32m    879\u001b[0m \u001b[1;33m\u001b[0m\u001b[0m\n\u001b[1;32m--> 880\u001b[1;33m         \u001b[0mself\u001b[0m\u001b[1;33m.\u001b[0m\u001b[0m_make_engine\u001b[0m\u001b[1;33m(\u001b[0m\u001b[0mself\u001b[0m\u001b[1;33m.\u001b[0m\u001b[0mengine\u001b[0m\u001b[1;33m)\u001b[0m\u001b[1;33m\u001b[0m\u001b[1;33m\u001b[0m\u001b[0m\n\u001b[0m\u001b[0;32m    881\u001b[0m \u001b[1;33m\u001b[0m\u001b[0m\n\u001b[0;32m    882\u001b[0m     \u001b[1;32mdef\u001b[0m \u001b[0mclose\u001b[0m\u001b[1;33m(\u001b[0m\u001b[0mself\u001b[0m\u001b[1;33m)\u001b[0m\u001b[1;33m:\u001b[0m\u001b[1;33m\u001b[0m\u001b[1;33m\u001b[0m\u001b[0m\n",
      "\u001b[1;32md:\\Users\\K\\anaconda3\\lib\\site-packages\\pandas\\io\\parsers.py\u001b[0m in \u001b[0;36m_make_engine\u001b[1;34m(self, engine)\u001b[0m\n\u001b[0;32m   1112\u001b[0m     \u001b[1;32mdef\u001b[0m \u001b[0m_make_engine\u001b[0m\u001b[1;33m(\u001b[0m\u001b[0mself\u001b[0m\u001b[1;33m,\u001b[0m \u001b[0mengine\u001b[0m\u001b[1;33m=\u001b[0m\u001b[1;34m\"c\"\u001b[0m\u001b[1;33m)\u001b[0m\u001b[1;33m:\u001b[0m\u001b[1;33m\u001b[0m\u001b[1;33m\u001b[0m\u001b[0m\n\u001b[0;32m   1113\u001b[0m         \u001b[1;32mif\u001b[0m \u001b[0mengine\u001b[0m \u001b[1;33m==\u001b[0m \u001b[1;34m\"c\"\u001b[0m\u001b[1;33m:\u001b[0m\u001b[1;33m\u001b[0m\u001b[1;33m\u001b[0m\u001b[0m\n\u001b[1;32m-> 1114\u001b[1;33m             \u001b[0mself\u001b[0m\u001b[1;33m.\u001b[0m\u001b[0m_engine\u001b[0m \u001b[1;33m=\u001b[0m \u001b[0mCParserWrapper\u001b[0m\u001b[1;33m(\u001b[0m\u001b[0mself\u001b[0m\u001b[1;33m.\u001b[0m\u001b[0mf\u001b[0m\u001b[1;33m,\u001b[0m \u001b[1;33m**\u001b[0m\u001b[0mself\u001b[0m\u001b[1;33m.\u001b[0m\u001b[0moptions\u001b[0m\u001b[1;33m)\u001b[0m\u001b[1;33m\u001b[0m\u001b[1;33m\u001b[0m\u001b[0m\n\u001b[0m\u001b[0;32m   1115\u001b[0m         \u001b[1;32melse\u001b[0m\u001b[1;33m:\u001b[0m\u001b[1;33m\u001b[0m\u001b[1;33m\u001b[0m\u001b[0m\n\u001b[0;32m   1116\u001b[0m             \u001b[1;32mif\u001b[0m \u001b[0mengine\u001b[0m \u001b[1;33m==\u001b[0m \u001b[1;34m\"python\"\u001b[0m\u001b[1;33m:\u001b[0m\u001b[1;33m\u001b[0m\u001b[1;33m\u001b[0m\u001b[0m\n",
      "\u001b[1;32md:\\Users\\K\\anaconda3\\lib\\site-packages\\pandas\\io\\parsers.py\u001b[0m in \u001b[0;36m__init__\u001b[1;34m(self, src, **kwds)\u001b[0m\n\u001b[0;32m   1889\u001b[0m         \u001b[0mkwds\u001b[0m\u001b[1;33m[\u001b[0m\u001b[1;34m\"usecols\"\u001b[0m\u001b[1;33m]\u001b[0m \u001b[1;33m=\u001b[0m \u001b[0mself\u001b[0m\u001b[1;33m.\u001b[0m\u001b[0musecols\u001b[0m\u001b[1;33m\u001b[0m\u001b[1;33m\u001b[0m\u001b[0m\n\u001b[0;32m   1890\u001b[0m \u001b[1;33m\u001b[0m\u001b[0m\n\u001b[1;32m-> 1891\u001b[1;33m         \u001b[0mself\u001b[0m\u001b[1;33m.\u001b[0m\u001b[0m_reader\u001b[0m \u001b[1;33m=\u001b[0m \u001b[0mparsers\u001b[0m\u001b[1;33m.\u001b[0m\u001b[0mTextReader\u001b[0m\u001b[1;33m(\u001b[0m\u001b[0msrc\u001b[0m\u001b[1;33m,\u001b[0m \u001b[1;33m**\u001b[0m\u001b[0mkwds\u001b[0m\u001b[1;33m)\u001b[0m\u001b[1;33m\u001b[0m\u001b[1;33m\u001b[0m\u001b[0m\n\u001b[0m\u001b[0;32m   1892\u001b[0m         \u001b[0mself\u001b[0m\u001b[1;33m.\u001b[0m\u001b[0munnamed_cols\u001b[0m \u001b[1;33m=\u001b[0m \u001b[0mself\u001b[0m\u001b[1;33m.\u001b[0m\u001b[0m_reader\u001b[0m\u001b[1;33m.\u001b[0m\u001b[0munnamed_cols\u001b[0m\u001b[1;33m\u001b[0m\u001b[1;33m\u001b[0m\u001b[0m\n\u001b[0;32m   1893\u001b[0m \u001b[1;33m\u001b[0m\u001b[0m\n",
      "\u001b[1;32mpandas\\_libs\\parsers.pyx\u001b[0m in \u001b[0;36mpandas._libs.parsers.TextReader.__cinit__\u001b[1;34m()\u001b[0m\n",
      "\u001b[1;32mpandas\\_libs\\parsers.pyx\u001b[0m in \u001b[0;36mpandas._libs.parsers.TextReader._setup_parser_source\u001b[1;34m()\u001b[0m\n",
      "\u001b[1;31mFileNotFoundError\u001b[0m: [Errno 2] File ../input/covid-world-vaccination-progress/country_vaccinations.csv does not exist: '../input/covid-world-vaccination-progress/country_vaccinations.csv'"
     ]
    }
   ],
   "source": [
    "df = pd.read_csv('../input/country_vaccinations.csv')"
   ]
  },
  {
   "cell_type": "code",
   "execution_count": null,
   "metadata": {},
   "outputs": [],
   "source": [
    "df.head()"
   ]
  },
  {
   "cell_type": "code",
   "execution_count": null,
   "metadata": {},
   "outputs": [],
   "source": [
    "df.info()"
   ]
  },
  {
   "cell_type": "code",
   "execution_count": null,
   "metadata": {},
   "outputs": [],
   "source": [
    "df.isnull().sum()"
   ]
  },
  {
   "cell_type": "markdown",
   "metadata": {},
   "source": [
    "As you can see, a lot of null values are present in the data. The probable reasons would be:\n",
    "\n",
    "正如你所看到的，数据中出现了很多空值。可能的原因是。\n",
    "\n",
    "1. The vaccination drive has just started. So, it hasn't quite taken pace all over the world.\n",
    "\n",
    "1. 疫苗接种运动刚刚开始。所以，它还没有完全在全世界形成规模。\n",
    "\n",
    "2. The sources are not enough to cover the vaccination daily everywhere.\n",
    "\n",
    "2. 2.数据来源不足以覆盖各地的日常疫苗接种工作。\n",
    "\n",
    "Whatever the reason might be, lets move ahead with cleaning the data and filling the missing values...\n",
    "\n",
    "不管是什么原因，让我们继续清理数据，填补缺失的数值......"
   ]
  },
  {
   "cell_type": "markdown",
   "metadata": {},
   "source": [
    "# Data cleaning : <a class=\"anchor\" id=\"chapter2\"></a>\n",
    "数据清洗"
   ]
  },
  {
   "cell_type": "markdown",
   "metadata": {},
   "source": [
    "In this section we have done particularly few things : \n",
    "\n",
    "在本节中，我们特别做了几件事。\n",
    "\n",
    "1. Filled the null values with 0 and assumed that nothing has happened* regarding that particular column.\n",
    "\n",
    "将空值填充为0，并假设该列没有发生任何事情*。\n",
    "\n",
    "2. Converted all the numeric values* from object type to integer type.\n",
    "\n",
    "将所有的数字值*从对象类型转换为整数类型。\n",
    "\n",
    "3. Added 3 new columns viz **'year'**, **'month'** and **'date'**. (Asking why? You will get that later on...)\n",
    "\n",
    "增加了3个新列，即 \"年\"、\"月 \"和 \"日期\"。(问为什么？你以后会明白的...)\n",
    "\n",
    "4. After adding them I turned them into integer type again and \n",
    "\n",
    "添加完后，我又把它们变成了整数类型，并把\n",
    "\n",
    "5. Converted the date column into datetime from object type.\n",
    "\n",
    "日期列从对象类型转换为日期时间。\n"
   ]
  },
  {
   "cell_type": "code",
   "execution_count": null,
   "metadata": {},
   "outputs": [],
   "source": [
    "df.fillna(value = 0, inplace = True)\n",
    "df.total_vaccinations = df.total_vaccinations.astype(int)\n",
    "df.people_vaccinated = df.people_vaccinated.astype(int)\n",
    "df.people_fully_vaccinated = df.people_fully_vaccinated.astype(int)\n",
    "\n",
    "df.daily_vaccinations_raw = df.daily_vaccinations_raw.astype(int)\n",
    "df.daily_vaccinations = df.daily_vaccinations.astype(int)\n",
    "df.total_vaccinations_per_hundred = df.total_vaccinations_per_hundred.astype(int)\n",
    "\n",
    "df.people_fully_vaccinated_per_hundred = df.people_fully_vaccinated_per_hundred.astype(int)\n",
    "df.daily_vaccinations_per_million = df.daily_vaccinations_per_million.astype(int)\n",
    "df.people_vaccinated_per_hundred = df.people_vaccinated_per_hundred.astype(int)"
   ]
  },
  {
   "cell_type": "code",
   "execution_count": null,
   "metadata": {},
   "outputs": [],
   "source": [
    "date = df.date.str.split('-', expand =True)\n",
    "date "
   ]
  },
  {
   "cell_type": "code",
   "execution_count": null,
   "metadata": {},
   "outputs": [],
   "source": [
    "df['year'] = date[0]\n",
    "df['month'] = date[1]\n",
    "df['day'] = date[2]\n",
    "\n",
    "df.year = pd.to_numeric(df.year)\n",
    "df.month = pd.to_numeric(df.month)\n",
    "df.day = pd.to_numeric(df.day)"
   ]
  },
  {
   "cell_type": "code",
   "execution_count": null,
   "metadata": {},
   "outputs": [],
   "source": [
    "df.date = pd.to_datetime(df.date)\n",
    "\n",
    "df.head()"
   ]
  },
  {
   "cell_type": "markdown",
   "metadata": {},
   "source": [
    "### DataFrame is ready to get visualized\n",
    "数据框架已经准备好被可视化了 "
   ]
  },
  {
   "cell_type": "markdown",
   "metadata": {},
   "source": [
    "## Some features : <a class=\"anchor\" id=\"chapter3\"></a>\n",
    "一些特点"
   ]
  },
  {
   "cell_type": "code",
   "execution_count": null,
   "metadata": {},
   "outputs": [],
   "source": [
    "print('Data point starts from ',df.date.min(),'\\n')\n",
    "print('Data point ends at ',df.date.max(),'\\n')\n",
    "print('Total no of countries in the data set ',len(df.country.unique()),'\\n')\n",
    "print('Total no of unique vaccines in the data set ',len(df.vaccines.unique()),'\\n')"
   ]
  },
  {
   "cell_type": "code",
   "execution_count": null,
   "metadata": {},
   "outputs": [],
   "source": [
    "df.info()"
   ]
  },
  {
   "cell_type": "markdown",
   "metadata": {},
   "source": [
    "# Data Visualization : <a class=\"anchor\" id=\"chapter4\"></a>\n",
    "数据可视化"
   ]
  },
  {
   "cell_type": "code",
   "execution_count": null,
   "metadata": {},
   "outputs": [],
   "source": [
    "df.describe()"
   ]
  },
  {
   "cell_type": "code",
   "execution_count": null,
   "metadata": {},
   "outputs": [],
   "source": [
    "df.country.unique()"
   ]
  },
  {
   "cell_type": "markdown",
   "metadata": {},
   "source": [
    "This is a very useful sweet little **function** to resize the **Seaborn** plots\n",
    "\n",
    "这是一个非常有用的可爱的小功能，可以调整Seaborn图的大小。"
   ]
  },
  {
   "cell_type": "code",
   "execution_count": null,
   "metadata": {},
   "outputs": [],
   "source": [
    "def size(m,n):\n",
    "    fig = plt.gcf();\n",
    "    fig.set_size_inches(m,n);"
   ]
  },
  {
   "cell_type": "markdown",
   "metadata": {},
   "source": [
    "## Word Art of countries : <a class=\"anchor\" id=\"chapter5\"></a>\n",
    "国家的文字艺术 :"
   ]
  },
  {
   "cell_type": "code",
   "execution_count": null,
   "metadata": {},
   "outputs": [],
   "source": [
    "wordCloud = WordCloud(\n",
    "    background_color='white',\n",
    "    max_font_size = 50).generate(' '.join(df.country))\n",
    "\n",
    "plt.figure(figsize=(15,7))\n",
    "plt.axis('off')\n",
    "plt.imshow(wordCloud)\n",
    "plt.show()"
   ]
  },
  {
   "cell_type": "markdown",
   "metadata": {},
   "source": [
    "# Total vaccinated till date : <a class=\"anchor\" id=\"chapter6\"></a>\n",
    "迄今已接种的疫苗总数"
   ]
  },
  {
   "cell_type": "code",
   "execution_count": null,
   "metadata": {},
   "outputs": [],
   "source": [
    "country_wise_total_vaccinated = {}\n",
    "\n",
    "for country in df.country.unique() : \n",
    "    vaccinated = 0\n",
    "\n",
    "    for i in range(len(df)) : \n",
    "        if df.country[i] == country : \n",
    "            vaccinated += df.daily_vaccinations[i]\n",
    "    \n",
    "    country_wise_total_vaccinated[country] = vaccinated \n",
    "#     made a seperate dict from the df \n",
    "# 从df中分离出了一个dict \n",
    "\n",
    "    country_wise_total_vaccinated_df = pd.DataFrame.from_dict(country_wise_total_vaccinated,\n",
    "                                                         orient='index',\n",
    "                                                         columns = ['total_vaccinted_till_date'])\n",
    "#     converted dict to df \n",
    "#将dict转换为df \n",
    "country_wise_total_vaccinated_df.sort_values(by = 'total_vaccinted_till_date', ascending = False, inplace = True)\n",
    "\n",
    "country_wise_total_vaccinated_df"
   ]
  },
  {
   "cell_type": "code",
   "execution_count": null,
   "metadata": {},
   "outputs": [],
   "source": [
    "fig = px.bar(country_wise_total_vaccinated_df, \n",
    "             y = 'total_vaccinted_till_date',\n",
    "             x = country_wise_total_vaccinated_df.index,\n",
    "             color = 'total_vaccinted_till_date',\n",
    "             color_discrete_sequence= px.colors.sequential.Viridis_r\n",
    "            )\n",
    "\n",
    "fig.update_layout(\n",
    "    title={\n",
    "            'text' : \"Vaccination till date in various countries\",\n",
    "            'y':0.95,\n",
    "            'x':0.5\n",
    "        },\n",
    "    xaxis_title=\"Countries\",\n",
    "    yaxis_title=\"Total vaccinated\",\n",
    "    legend_title=\"Total vaccinated\"\n",
    ")\n",
    "\n",
    "fig.show()"
   ]
  },
  {
   "cell_type": "markdown",
   "metadata": {},
   "source": [
    "From the plot, some interesting facts are easily noticeable:\n",
    "\n",
    "从一些情节中，一些有趣的事实很容易被注意到。\n",
    "\n",
    "1. The **United States**, despite all protests, has the highest number of vaccines.\n",
    "\n",
    "尽管有各种抗议，美国的疫苗数量是最多的。\n",
    "\n",
    "2. **China**, from where the virus started spreading, is at second.\n",
    "\n",
    "中国是病毒开始传播的地方，位居第二。\n",
    "\n",
    "3. **UK**, where we have found a new variant strain of the virus, is right next.\n",
    "\n",
    "我们在英国发现了一种新的病毒变异株，紧随其后。\n",
    "\n",
    "4. **India**, who has been supplying vaccines to the world is herself at 6th position.\n",
    "\n",
    "一直向世界提供疫苗的印度自己排在第六位。\n",
    "\n",
    "5. Following that, we have **Turkey**, **UAE**, **Germany** and others.\n",
    "\n",
    "紧随其后的是土耳其、阿联酋、德国和其他国家。"
   ]
  },
  {
   "cell_type": "markdown",
   "metadata": {},
   "source": [
    "# Country wise daily vaccination : <a class=\"anchor\" id=\"chapter7\"></a>\n",
    "按国家划分，每天接种疫苗。"
   ]
  },
  {
   "cell_type": "markdown",
   "metadata": {},
   "source": [
    "fig = px.line(df, x = 'date', y ='daily_vaccinations', color = 'country')\n",
    "\n",
    "fig.update_layout(\n",
    "    title={\n",
    "            'text' : \"Daily vaccination trend\",\n",
    "            'y':0.95,\n",
    "            'x':0.5\n",
    "        },\n",
    "    xaxis_title=\"Date\",\n",
    "    yaxis_title=\"Daily Vaccinations\"\n",
    ")\n",
    "\n",
    "fig.show()"
   ]
  },
  {
   "cell_type": "markdown",
   "metadata": {},
   "source": [
    "From this visualization we can see that :\n",
    "\n",
    "从这个可视化的角度，我们可以看到 。\n",
    "\n",
    "1. **China** started **\"Mass Vaccination\"** first\n",
    "\n",
    "1. **中国**首先开始**\"大规模疫苗接种 \"**。\n",
    "\n",
    "2. Though **USA** started second, in terms of daily vaccinations it stands at the top now.\n",
    "\n",
    "2.尽管**美国**开始时排名第二，但就每天的疫苗接种量而言，它现在排名第一。\n",
    "\n",
    "3. Following that we have **United Kingdom** and **England**\n",
    "\n",
    "3. 紧随其后的是**英国和**英格兰。\n",
    "\n",
    "4. And then **India** comes in the 5th position in terms of daily vaccination\n",
    "\n",
    "4. 然后是**印度**，就每天的疫苗接种量而言，它排在第五位。\n",
    "\n"
   ]
  },
  {
   "cell_type": "markdown",
   "metadata": {},
   "source": [
    "# Plot till date Function : <a class=\"anchor\" id=\"chapter23\"></a>\n",
    "迄今为止的功能 "
   ]
  },
  {
   "cell_type": "code",
   "execution_count": null,
   "metadata": {},
   "outputs": [],
   "source": [
    "# helper function\n",
    "# 帮助功能\n",
    "\n",
    "def plot_till_date(value1, value2, title, color1, color2) : \n",
    "    \n",
    "    so_far_dict = {}\n",
    "    \n",
    "    for dates in df.date.unique() : \n",
    "        so_far_dict[dates], value1_count, value2_count = [], 0, 0\n",
    "    \n",
    "        for i in range(len(df)) : \n",
    "        \n",
    "            if df.date[i] == dates : \n",
    "                value1_count += df[value1][i]\n",
    "                value2_count += df[value2][i]\n",
    "                \n",
    "#         if dates not in so_far_dict.keys() : \n",
    "# 如果日期不在so_far_dict.keys()中。\n",
    "        \n",
    "        so_far_dict[dates].append(value1_count) \n",
    "        so_far_dict[dates].append(value2_count)\n",
    "    \n",
    "    so_far_df = pd.DataFrame.from_dict(so_far_dict, orient = 'index', columns=[value1, value2])\n",
    "    so_far_df.reset_index(inplace = True)\n",
    "\n",
    "#     return so_far_df\n",
    "# 返回 so_far_df\n",
    "    \n",
    "    so_far_df.sort_values(by='index', inplace = True)\n",
    "    \n",
    "    plot = go.Figure(data=[go.Scatter( \n",
    "            x = so_far_df['index'], \n",
    "            y = so_far_df[value1], \n",
    "            stackgroup='one', \n",
    "            name = value1, \n",
    "            marker_color= color1), \n",
    "                               \n",
    "                           go.Scatter( \n",
    "            x = so_far_df['index'], \n",
    "            y = so_far_df[value2], \n",
    "            stackgroup='one',\n",
    "            name = value2, \n",
    "            marker_color= color2) \n",
    "        ]) \n",
    "    \n",
    "    plot.update_layout(\n",
    "    title={\n",
    "            'text' : title,\n",
    "            'y':0.95,\n",
    "            'x':0.5\n",
    "        },\n",
    "        xaxis_title=\"Date\"\n",
    "    )\n",
    "    \n",
    "    return plot.show()"
   ]
  },
  {
   "cell_type": "markdown",
   "metadata": {},
   "source": [
    "## People vaccinated vs people fully vaccinated in the world : <a class=\"anchor\" id=\"chapter24\"></a>\n",
    "世界上接种疫苗的人与完全接种疫苗的人:"
   ]
  },
  {
   "cell_type": "code",
   "execution_count": null,
   "metadata": {},
   "outputs": [],
   "source": [
    "plot_till_date('people_fully_vaccinated', 'people_vaccinated','People vaccinated vs Fully vaccinated till date', '#c4eb28', '#35eb28')"
   ]
  },
  {
   "cell_type": "markdown",
   "metadata": {},
   "source": [
    "## People vaccinated vs people fully vaccinated per hundred in the world : <a class=\"anchor\" id=\"chapter25\"></a>\n",
    "世界上每百人中接种疫苗的人与完全接种疫苗的人:"
   ]
  },
  {
   "cell_type": "code",
   "execution_count": null,
   "metadata": {},
   "outputs": [],
   "source": [
    "plot_till_date('people_fully_vaccinated_per_hundred', 'people_vaccinated_per_hundred', 'People vaccinated vs Fully vaccinated per hundred till date', '#0938e3','#7127cc')"
   ]
  },
  {
   "cell_type": "markdown",
   "metadata": {},
   "source": [
    "# Function for Pie-Plot : <a class=\"anchor\" id=\"chapter20\"></a>\n",
    "饼图的功能"
   ]
  },
  {
   "cell_type": "code",
   "execution_count": null,
   "metadata": {},
   "outputs": [],
   "source": [
    "def plot_pie(value, title, color) : \n",
    "    \n",
    "    new_dict = {}\n",
    "    \n",
    "    for v in df[value].unique() : \n",
    "        value_count = 0\n",
    "        \n",
    "        for i in range(len(df)) : \n",
    "            if df[value][i] == v : \n",
    "                value_count += 1 \n",
    "        \n",
    "        new_dict[v] = value_count \n",
    "        \n",
    "#     print(new_dict)\n",
    "# 打印(new_dict)\n",
    "\n",
    "\n",
    "    new_df = pd.DataFrame.from_dict(new_dict, orient = 'index', columns = ['Total'])\n",
    "    \n",
    "    if color == 'plasma' : \n",
    "        \n",
    "        fig = px.pie(new_df, values= 'Total',\n",
    "                     names = new_df.index,\n",
    "                     title = title,\n",
    "                     color_discrete_sequence=px.colors.sequential.Plasma)\n",
    "    \n",
    "    elif color == 'rainbow' : \n",
    "        \n",
    "        fig = px.pie(new_df, values= 'Total',\n",
    "                     names = new_df.index,\n",
    "                     title = title,\n",
    "                     color_discrete_sequence=px.colors.sequential.Rainbow)\n",
    "    \n",
    "    else :\n",
    "        \n",
    "        fig = px.pie(new_df, values= 'Total',\n",
    "                     names = new_df.index,\n",
    "                     title = title)\n",
    "    \n",
    "    fig.update_layout(\n",
    "        title={\n",
    "            'y':0.95,\n",
    "            'x':0.5\n",
    "        },\n",
    "        legend_title = value\n",
    "    )\n",
    "        \n",
    "    return fig.show()"
   ]
  },
  {
   "cell_type": "markdown",
   "metadata": {},
   "source": [
    "## Most used vaccine : <a class=\"anchor\" id=\"chapter8\"></a>\n",
    "使用最多的疫苗"
   ]
  },
  {
   "cell_type": "code",
   "execution_count": null,
   "metadata": {},
   "outputs": [],
   "source": [
    "df.vaccines.unique()"
   ]
  },
  {
   "cell_type": "code",
   "execution_count": null,
   "metadata": {},
   "outputs": [],
   "source": [
    "plot_pie('vaccines', 'Various vaccines and their uses', 'plasma')"
   ]
  },
  {
   "cell_type": "markdown",
   "metadata": {},
   "source": [
    "From this Pie chart we can see that : \n",
    "\n",
    "从这个饼状图我们可以看出。\n",
    "\n",
    "1. The most used vaccine around the world is **Pfizer/BioNTech** which constitutes around **47.6%** of the totals vaccines used.\n",
    "\n",
    "世界上使用最多的疫苗是辉瑞公司/生物技术公司，约占所使用疫苗总数的47.6%。\n",
    "\n",
    "2. And the second most used vaccine is **Moderna** \n",
    "\n",
    "第二大使用的疫苗是Moderna。\n",
    "\n",
    "3. Then comes **Oxford/AstraZeneca, Sinovac** , **Pfizer/BioNTech, Sinopharm** and **Sputnik V**\n",
    "\n",
    "然后是牛津/阿斯利康、华育、辉瑞/生物技术、国药集团和斯普特尼克五号。\n",
    "\n",
    "4. **Indian** **Covaxin, Oxford/AstraZeneca** comes at 10th with **0.933%** market share.\n",
    "\n",
    "印度Covaxin，牛津/阿斯利康排在第十位，市场份额为0.933%。"
   ]
  },
  {
   "cell_type": "markdown",
   "metadata": {},
   "source": [
    "# Most frequent Sources : <a class=\"anchor\" id=\"chapter9\"></a>\n",
    " 最常见的来源\n"
   ]
  },
  {
   "cell_type": "code",
   "execution_count": null,
   "metadata": {},
   "outputs": [],
   "source": [
    "plot_pie('source_name', 'Sources', 'rainbow')"
   ]
  },
  {
   "cell_type": "markdown",
   "metadata": {},
   "source": [
    "### Correction : \n",
    "\n",
    "纠正:\n",
    "\n",
    "Initially there were **36** sources. Now there is **40+** sources that's why the shares are getting devided.\n",
    "\n",
    "最初有36个来源。现在有40多个来源，这就是为什么股份被分割的原因。"
   ]
  },
  {
   "cell_type": "markdown",
   "metadata": {},
   "source": [
    "## Word art of Vaccines<a class=\"anchor\" id=\"chapter10\"></a>\n",
    "疫苗的文字表述"
   ]
  },
  {
   "cell_type": "code",
   "execution_count": null,
   "metadata": {},
   "outputs": [],
   "source": [
    "wordCloud = WordCloud(\n",
    "    background_color='white',\n",
    "    max_font_size = 50).generate(' '.join(df.vaccines))\n",
    "\n",
    "plt.figure(figsize=(12,5))\n",
    "plt.axis('off')\n",
    "plt.imshow(wordCloud)\n",
    "plt.show()"
   ]
  },
  {
   "cell_type": "markdown",
   "metadata": {},
   "source": [
    "# Daily vaccination trend per million : <a class=\"anchor\" id=\"chapter11\"></a>\n",
    "每百万人的每日接种趋势 "
   ]
  },
  {
   "cell_type": "code",
   "execution_count": null,
   "metadata": {},
   "outputs": [],
   "source": [
    "fig = px.line(df, x = 'date', y ='daily_vaccinations_per_million', color = 'country')\n",
    "\n",
    "fig.update_layout(\n",
    "    title={\n",
    "            'text' : \"Daily vaccination trend per million\",\n",
    "            'y':0.95,\n",
    "            'x':0.5\n",
    "        },\n",
    "    xaxis_title=\"Date\",\n",
    "    yaxis_title=\"Daily Vaccinations per million\"\n",
    ")\n",
    "\n",
    "fig.show()"
   ]
  },
  {
   "cell_type": "markdown",
   "metadata": {},
   "source": [
    "Currently **Israel** and **Seychelles** has the highest number of vaccinations per million \n",
    "\n",
    "目前，以色列和塞舌尔是每百万人中接种疫苗次数最多的国家。\n",
    "\n",
    "* Though on **10th Jan** we can see a huge jump in **Gibraltar** which is highest among all \n",
    "\n",
    "但在1月10日，我们可以看到直布罗陀的接种率大幅上升，是所有国家中最高的。"
   ]
  },
  {
   "cell_type": "markdown",
   "metadata": {},
   "source": [
    "# Total vaccinated - India vs USA : <a class=\"anchor\" id=\"chapter12\"></a>\n",
    "接种总数 - 印度 vs 美国"
   ]
  },
  {
   "cell_type": "code",
   "execution_count": null,
   "metadata": {},
   "outputs": [],
   "source": [
    "india_usa = [df[df.country == 'United States'], df[df.country == 'India']]\n",
    "result = pd.concat(india_usa)\n",
    "\n",
    "fig = px.line(result, x = 'date', y ='total_vaccinations', color = 'country')\n",
    "\n",
    "fig.update_layout(\n",
    "    title={\n",
    "            'text' : \"Total vaccinated - India vs USA\",\n",
    "            'y':0.95,\n",
    "            'x':0.5\n",
    "        },\n",
    "    xaxis_title=\"Date\",\n",
    "    yaxis_title=\"Total Vaccinations\"\n",
    ")\n",
    "\n",
    "fig.show()"
   ]
  },
  {
   "cell_type": "markdown",
   "metadata": {},
   "source": [
    "From the comparison between **India** and **USA** we can see that \n",
    "\n",
    "从印度和美国的比较中，我们可以看到\n",
    "\n",
    "1. **USA** started the vaccination drive relative earlier.\n",
    "\n",
    "美国开始接种疫苗的时间相对较早。\n",
    "\n",
    "2. Though **India** started late, the country is moving quite steadily.\n",
    "\n",
    "虽然印度起步较晚，但该国的发展相当稳定。"
   ]
  },
  {
   "cell_type": "markdown",
   "metadata": {},
   "source": [
    "# Function for Maps : <a class=\"anchor\" id=\"chapter21\"></a>\n",
    "\n",
    "地图的功能："
   ]
  },
  {
   "cell_type": "code",
   "execution_count": null,
   "metadata": {},
   "outputs": [],
   "source": [
    "# helper function\n",
    "# 帮助功能\n",
    "\n",
    "def plot_map(variable, title, color) : \n",
    "    \n",
    "    new_dict = {}\n",
    "    \n",
    "    for country in df.country.unique() : \n",
    "        \n",
    "        for i in range(len(df)) : \n",
    "            if df.country[i] == country : \n",
    "                new_dict[country] = df[variable][i]\n",
    "    \n",
    "    new_dict\n",
    "    \n",
    "    new_df = pd.DataFrame.from_dict(new_dict, orient='index', columns =[variable])\n",
    "    \n",
    "    if color == None : \n",
    "        \n",
    "        place_map = px.choropleth(new_df, locations =new_df.index,\n",
    "                                  locationmode = 'country names',\n",
    "                                  color=variable, \n",
    "                                  hover_name= new_df.index)\n",
    "    \n",
    "    else : \n",
    "        \n",
    "        place_map = px.choropleth(new_df, locations =new_df.index,\n",
    "                                  locationmode = 'country names',\n",
    "                                  color=variable, \n",
    "                                  hover_name= new_df.index,\n",
    "                                  color_continuous_scale= color)\n",
    "        \n",
    "    place_map.update_layout(\n",
    "        title_text = title,\n",
    "        title_x = 0.5,\n",
    "        geo=dict(showocean=True, oceancolor=\"#7af8ff\",\n",
    "                showland=True, landcolor=\"white\",\n",
    "                showframe = False))\n",
    "    \n",
    "    \n",
    "    return place_map.show()"
   ]
  },
  {
   "cell_type": "markdown",
   "metadata": {},
   "source": [
    "## Most vaccinated country : <a class=\"anchor\" id=\"chapter13\"></a>\n",
    "接种疫苗最多的国家:"
   ]
  },
  {
   "cell_type": "code",
   "execution_count": null,
   "metadata": {},
   "outputs": [],
   "source": [
    "plot_map('total_vaccinations','Most vaccinated country', None)"
   ]
  },
  {
   "cell_type": "markdown",
   "metadata": {},
   "source": [
    "## Vaccines Used in Different countries : <a class=\"anchor\" id=\"chapter14\"></a>\n",
    "在不同国家使用的疫苗 :"
   ]
  },
  {
   "cell_type": "code",
   "execution_count": null,
   "metadata": {},
   "outputs": [],
   "source": [
    "plot_map('vaccines','Vaccines Used in Different countries', None)"
   ]
  },
  {
   "cell_type": "markdown",
   "metadata": {},
   "source": [
    "From this plot you can see the use of vaccines around the world : \n",
    "\n",
    "从这个图中，你可以看到世界各地的疫苗使用情况。\n",
    "\n",
    "1. Though **India** sent it's vaccine to **Brazil**, it seems that Brazil has used the **Oxford** vaccine so far. Maybe in future we will get to see more use of **Covaxine** in Brazil.\n",
    "\n",
    "尽管印度将其疫苗送到了巴西，但到目前为止，巴西似乎使用的是牛津疫苗。也许在未来，我们会在巴西看到更多使用科瓦辛的情况。\n",
    "\n",
    "2. In **North America** and **Europe**, **Pfizer** and **Moderna** are used widely.\n",
    "\n",
    "在北美和欧洲，辉瑞和Moderna被广泛使用。\n",
    "\n",
    "3. In **Asia, Africa** and **South America**, **\"Sputnik V\"** is being used mostly. \n",
    "\n",
    "在亚洲、非洲和南美洲，\"斯普特尼克五号 \"正在被广泛使用。"
   ]
  },
  {
   "cell_type": "markdown",
   "metadata": {},
   "source": [
    "## People fully vaccinated in Different countries : <a class=\"anchor\" id=\"chapter15\"></a>\n",
    "不同国家完全接种疫苗的人 "
   ]
  },
  {
   "cell_type": "code",
   "execution_count": null,
   "metadata": {},
   "outputs": [],
   "source": [
    "plot_map('people_fully_vaccinated','People fully vaccinated in Different countries', 'haline')"
   ]
  },
  {
   "cell_type": "markdown",
   "metadata": {},
   "source": [
    "This is quite an eye opener to see that \n",
    "\n",
    "这让人大开眼界，看到的是\n",
    "\n",
    "* Though the vaccination drive is going in full pace in most of the countries people are not fully vaccinated \n",
    "\n",
    "尽管大多数国家的疫苗接种活动正在全面展开，但人们并没有完全接种疫苗。"
   ]
  },
  {
   "cell_type": "markdown",
   "metadata": {},
   "source": [
    "# Function for Animation: <a class=\"anchor\" id=\"chapter22\"></a>\n",
    "动画的功能"
   ]
  },
  {
   "cell_type": "code",
   "execution_count": null,
   "metadata": {},
   "outputs": [],
   "source": [
    "def plot_animation(value, title, color) : \n",
    "    \n",
    "    new_df = df[df.year == 2021]\n",
    "    \n",
    "    new_df.sort_values(by='day', inplace = True)\n",
    "    \n",
    "    if color == None : \n",
    "        \n",
    "        place_map = px.choropleth(new_df, locations =\"country\",\n",
    "                                    locationmode = \"country names\", \n",
    "                                    color=value,\n",
    "                                    hover_name=\"country\",\n",
    "                                    animation_frame=\"day\")\n",
    "    \n",
    "    else : \n",
    "        \n",
    "        place_map = px.choropleth(new_df, locations =\"country\",\n",
    "                                locationmode = \"country names\", \n",
    "                                color=value,\n",
    "                                hover_name=\"country\",\n",
    "                                animation_frame=\"day\",\n",
    "                                color_continuous_scale= color)\n",
    "\n",
    "    place_map.update_layout(\n",
    "        title_text = title,\n",
    "        title_x = 0.5,\n",
    "        geo=dict(showocean=True, oceancolor=\"#7af8ff\",\n",
    "                showland=True, landcolor=\"white\",\n",
    "                showframe = False))\n",
    "    \n",
    "    return place_map.show()\n"
   ]
  },
  {
   "cell_type": "markdown",
   "metadata": {},
   "source": [
    "## Animation of daily vaccinations through January 2021 in different countries: <a class=\"anchor\" id=\"chapter16\"></a>\n",
    "到2021年1月，不同国家每天接种疫苗的动态图形"
   ]
  },
  {
   "cell_type": "code",
   "execution_count": null,
   "metadata": {},
   "outputs": [],
   "source": [
    "plot_animation('daily_vaccinations', 'Animation of daily vaccinations through January 2021 in different countries', None)"
   ]
  },
  {
   "cell_type": "code",
   "execution_count": null,
   "metadata": {},
   "outputs": [],
   "source": []
  },
  {
   "cell_type": "markdown",
   "metadata": {},
   "source": [
    "## Animation of daily vaccinations per million through January 2021 in different countries: <a class=\"anchor\" id=\"chapter17\"></a>\n",
    "到2021年1月，不同国家每百万人每天接种疫苗的动态图形。"
   ]
  },
  {
   "cell_type": "code",
   "execution_count": null,
   "metadata": {},
   "outputs": [],
   "source": [
    "plot_animation('daily_vaccinations_per_million', 'Animation of daily vaccinations per million through January 2021 in different countries', 'Plotly3')"
   ]
  },
  {
   "cell_type": "markdown",
   "metadata": {},
   "source": [
    "# Date vs People Vaccinated vs People Fully Vaccinated | 3D: <a class=\"anchor\" id=\"chapter18\"></a>\n",
    "日期VS接种疫苗的人VS完全接种疫苗的人 | 3D"
   ]
  },
  {
   "cell_type": "code",
   "execution_count": null,
   "metadata": {},
   "outputs": [],
   "source": [
    "fig = px.scatter_3d(df, x='date', y='people_vaccinated', z='people_fully_vaccinated',\n",
    "                    color='country',\n",
    "                    hover_data=['country'],\n",
    "                    size = 'people_fully_vaccinated',\n",
    "                    opacity=0.9, \n",
    "                    symbol = 'country')\n",
    "\n",
    "\n",
    "fig.update_layout(title='Date vs People Vaccinated vs People Fully Vaccinated | 3D')\n",
    "\n",
    "fig.update_layout(\n",
    "        title={\n",
    "            'y':0.95,\n",
    "            'x':0.5\n",
    "        }\n",
    "    )\n",
    "\n",
    "fig.show()"
   ]
  },
  {
   "cell_type": "markdown",
   "metadata": {},
   "source": [
    "# Corelation Heatmap: <a class=\"anchor\" id=\"chapter19\"></a>\n",
    "Corelation热图。"
   ]
  },
  {
   "cell_type": "code",
   "execution_count": null,
   "metadata": {},
   "outputs": [],
   "source": [
    "sns.heatmap(df.corr())\n",
    "plt.title('Corelation Heatmap')\n",
    "plt.yticks(rotation = 0);\n",
    "size(10,7)"
   ]
  },
  {
   "cell_type": "markdown",
   "metadata": {},
   "source": [
    "<h2 style='background: black; border:1; color: white'><center>Conclusion</center></h2>\n",
    "\n",
    "总结\n",
    "\n",
    "Covid-19 has sent out education, economy and the whole world on the back foot. Millions of people lost their lives, families, friends and dear ones as well as their jobs. They are living under hard conditions.\n",
    "\n",
    "Covid-19使教育、经济和整个世界陷入困境。数百万人失去了他们的生命、家庭、朋友和亲爱的人，以及他们的工作。他们在艰难的条件下生活。\n",
    "\n",
    "In spite of everything, there has been certain positive impacts of this pandemic which might be regarded as the bright sides :\n",
    "\n",
    "尽管发生了这些事情，这场大流行病还是有一些积极的影响，可以被视为光明的一面。\n",
    "\n",
    "1. It has given an opportunity to work-from-home and spend time with our family, which is hardly possible nowadays due to our hectic schedule.\n",
    "\n",
    "它提供了一个在家工作和与家人相处的机会，这在今天由于我们繁忙的日程安排是很难做到的。\n",
    "\n",
    "2. It has given a kick-start to online studies and make learning easier and global.\n",
    "\n",
    "它为在线学习提供了一个开端，使学习变得更加容易和全球化。\n",
    "\n",
    "3. It has put forward the need to make technology accessible to all.\n",
    "\n",
    "它提出了让所有人都能获得技术的必要性。\n",
    "\n",
    "4. The stimulus to take immediate action in time of crisis has helped boost speed and innovations\n",
    "\n",
    "在危机发生时立即采取行动的刺激有助于提高速度和创新。\n",
    "\n",
    "5. As all the industries were in cold storage, this gave the nature an opportunity to flourish again and we got to see how **blue and beautiful** the skies could be.\n",
    "\n",
    "由于所有的工业都处于冷藏状态，这给了大自然一个再次蓬勃发展的机会，我们可以看到天空是多么的蓝和美丽。\n",
    "\n",
    "6. And finally the Covid-19 vaccination has shown to the world that **United we stand, Divided we fall** \n",
    "\n",
    "最后，Covid-19疫苗接种向世界表明，团结就是力量，分裂就是失败。\n",
    "\n",
    "### I hope together we can fight this out effectively and get back to our normal life again.\n",
    "\n",
    "我希望我们能一起有效地抗争，重新回到我们的正常生活。"
   ]
  },
  {
   "cell_type": "markdown",
   "metadata": {},
   "source": [
    "<h2 style='background: black; border:1; color: white'><center>Some Key observations</center></h2>\n",
    "一些关键的意见\n",
    "\n",
    "1. Though the vaccination drive is going in its full pace but in most of the countries people are not fully vaccinated \n",
    "\n",
    "尽管疫苗接种工作正在全面展开，但在大多数国家，人们并没有完全接种疫苗。\n",
    "\n",
    "2. In **North America** and **Europe Pfizer** and **Moderna** is widely used \n",
    "\n",
    "在北美和欧洲，辉瑞和Moderna被广泛使用。\n",
    "\n",
    "3. In **Asia, Africa** and **South America Sputnik V** is mostly used \n",
    "\n",
    "在亚洲、非洲和南美洲，主要使用Sputnik V。\n",
    "\n",
    "4. Though on **10th Jan** we can see a huge jump in **Gibraltar** which is highest among all \n",
    "\n",
    "尽管在1月10日，我们可以看到直布罗陀的疫苗接种量大增，是所有国家中最高的。\n",
    "\n",
    "5. The most used vaccine around the world is **Pfizer/ BioNTech**. Around **47.6%** of the total vaccines used \n",
    "\n",
    "世界上使用最多的疫苗是辉瑞/BioNTech。约占总使用疫苗的47.6%。\n",
    "\n",
    "6. **Indian** **Covaxin, Oxford/AstraZeneca** comes at 10th with **0.933%** market share.\n",
    "\n",
    "印度的Covaxin，牛津/阿斯利康排名第十，市场份额为0.933%。\n",
    "\n",
    "7. **China** has started **\"Mass Vaccination\"** first \n",
    "\n",
    "中国首先开始了 \"大规模疫苗接种\"。\n",
    "\n",
    "8. Though **USA** started in the second position but in terms of daily vaccinations **USA** is at the top now\n",
    "\n",
    "尽管美国开始时处于第二位，但就每天的疫苗接种量而言，美国现在处于首位。 \n"
   ]
  },
  {
   "cell_type": "markdown",
   "metadata": {},
   "source": [
    "### <!-- Thanks for sparing your time! Do **upvote** if you liked, This motivates hugely to come up with new explorations and keep updating… -->\n",
    "\n",
    "#### Thanks for the support. 1 more to silver! Hit the upvote and make it 🤗\n",
    "\n",
    "谢谢你的支持。离银牌还有1个! 敲击赞美之词并使之成为🤗。\n",
    "\n",
    "> It would be really nice if you check my other works and if you like my work then don't forget to **follow** for more interest notebooks  🤗\n",
    "\n",
    "如果您喜欢我的作品，请不要忘记关注我的作品，以获得更多有趣的笔记本🤗，这将是非常好的。\n"
   ]
  }
 ],
 "metadata": {
  "interpreter": {
   "hash": "6dffc653d8d603152ac410dd70b3295fefd05fb3f0a31211f6c43917d5589b20"
  },
  "kernelspec": {
   "display_name": "Python 3 (ipykernel)",
   "language": "python",
   "name": "python3"
  },
  "language_info": {
   "codemirror_mode": {
    "name": "ipython",
    "version": 3
   },
   "file_extension": ".py",
   "mimetype": "text/x-python",
   "name": "python",
   "nbconvert_exporter": "python",
   "pygments_lexer": "ipython3",
   "version": "3.9.7"
  }
 },
 "nbformat": 4,
 "nbformat_minor": 4
}
