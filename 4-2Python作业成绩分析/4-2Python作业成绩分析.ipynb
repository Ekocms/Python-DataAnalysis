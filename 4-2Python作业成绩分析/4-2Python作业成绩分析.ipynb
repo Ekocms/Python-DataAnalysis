{
 "cells": [
  {
   "cell_type": "markdown",
   "metadata": {},
   "source": [
    "# 一、基本信息\n",
    "\n",
    "1. 实验名称：作业成绩分析\n",
    "2. 实验学时：2\n",
    "3. 实验类别：综合性\n",
    "4. 课程名称：数据分析基础（Python）\n",
    "5. 课程编号：12002CC019"
   ]
  },
  {
   "cell_type": "markdown",
   "metadata": {
    "lines_to_next_cell": 2,
    "pycharm": {
     "name": "#%% md\n"
    }
   },
   "source": [
    "# 二、实验目的（预期学习效果）\n",
    "\n",
    "\n",
    "本实验应符合课程总体学习要求，促进以下预期效果的达成：\n",
    "* 掌握Python基本语法、内置数据类型、函数和文件等知识；\n",
    "* 能够能够综合应用Python基础知识解决问题，具备基本的编程能力。\n",
    "\n",
    "涉及主要KT点包括：\n",
    "* KT2_Python语言基本语法\n",
    "* KT3_Python内置数据类型\n",
    "* KT4_Python函数\n",
    "* KT5_Python文件操作\n",
    "\n",
    "\n",
    "\n",
    "# 三、实验任务及原理\n",
    "\n",
    "## 任务群1：定义函数\n",
    "任务1-任务3\n",
    "\n",
    "## 任务群2：调用函数及计算\n",
    "任务4-任务9\n",
    "\n",
    "\n",
    "实验任务说明：统计学生作业成绩。学生作业打分文档保存在文本文件student_score.txt中，学生名单保存在另一个文本文件student.txt中，要求统计每个学生的总分、交作业学生名单和未交作业学生名单，进一步地查询班级最高分与最低分，统计班级平均分和标准差。\n",
    "\n",
    "本实验主要应用Python基础编程知识完成，运用到列表、字典等内置数据类型，文件读取，循环，以及函数定义与调用等。\n",
    "* 字典，dict={}：花括号中有key键和值values形成的键值对，键值对之间用英文的:相连，多个键值对之间用“,”相连；通过key来访问values。\n",
    "* 列表，list=[]：列表中第一个索引为“0”，第二个索引为“1”以此类推。\n",
    "* 文件读取，open()方法打开文件，close()方法关闭文件。\n",
    "* 函数，语法格式：  \n",
    "def functionname( parameters ):  \n",
    "&emsp; \"函数_文档字符串\"  \n",
    "&emsp; function_suite  \n",
    "&emsp; return [expression]  \n",
    "函数以def关键词开头，以return结尾且选择性地返回一个值给调用方，不带表达式的return相当于None。  \n",
    "* for循环，语法格式：  \n",
    "for 迭代变量in 字符串&列表&元组&字典&集合:  \n",
    "&emsp; statements(s)  \n",
    "for循环常常用于遍历字符串、列表、元组、字典、集合等序列类型，逐个从中获取序列各个元素。  "
   ]
  },
  {
   "cell_type": "markdown",
   "metadata": {},
   "source": [
    "# 四、实验环境\n",
    "\n",
    "实验仪器设备：计算机。\n",
    "\n",
    "实验软件：Jupyter Notebook。\n",
    "\n",
    "工具耗材：无。\n",
    "\n",
    "# 五、实验预习任务\n",
    "\n",
    "实验前，应复习本实验涉及的KT点，并完成前次布置的相关练习题目，并阅读相关参考性资料，做好实验前准备。\n",
    "\n",
    "# 六、实验过程（实验方案）"
   ]
  },
  {
   "cell_type": "markdown",
   "metadata": {},
   "source": [
    "## 作业成绩分析"
   ]
  },
  {
   "cell_type": "markdown",
   "metadata": {},
   "source": [
    "## **任务1** 定义函数\n",
    "定义相关函数，封装相应功能。\n",
    "\n",
    "问题1. 定义函数read_file  \n",
    "功能：读取文本文件，读取每一行添加到列表中  \n",
    "输入参数：文件名  \n",
    "返回值：列表  \n",
    "提示：将每行结尾的换行符去掉；文本文件中有中文，读取文件时，需要加上参数encoding='utf-8'"
   ]
  },
  {
   "cell_type": "code",
   "execution_count": 1,
   "metadata": {
    "scrolled": true
   },
   "outputs": [
    {
     "data": {
      "text/plain": [
       "['19100101 张斯 4',\n",
       " '19100102 严柳 5',\n",
       " '19100103 李斯 5',\n",
       " '19100107 钱多 3',\n",
       " '19100109 林冲 4',\n",
       " '19100110 李逵 3',\n",
       " '19100111 宋江 4',\n",
       " '19100112 诸葛 5',\n",
       " '19100113 刘备 5',\n",
       " '19100115 刘邦 3',\n",
       " '19100117 关羽 4',\n",
       " '19100118 张飞 4',\n",
       " '19100119 顾城 5',\n",
       " '19100120 庞统 1',\n",
       " '19100121 武松 2',\n",
       " '19100122 赵云 2',\n",
       " '19100123 关胜 1',\n",
       " '19100124 秦明 2',\n",
       " '19100126 张清 1',\n",
       " '19100127 史进 2',\n",
       " '19100111 宋江 3',\n",
       " '19100119 顾城 2',\n",
       " '19100112 诸葛 4',\n",
       " '19100103 李斯 3',\n",
       " '19100123 关胜 3']"
      ]
     },
     "execution_count": 1,
     "metadata": {},
     "output_type": "execute_result"
    }
   ],
   "source": [
    "def read_file(file_name):\n",
    "    f = open(file_name, mode='r', encoding='utf-8')\n",
    "    score_list = [l.strip() for l in f.readlines()]\n",
    "    f.close()\n",
    "    return score_list\n",
    "\n",
    "read_file(\"data/student_score.txt\")"
   ]
  },
  {
   "cell_type": "markdown",
   "metadata": {},
   "source": [
    "问题2. 定义函数get_stu_score   \n",
    "功能：统计学生成绩，将同一名学生的成绩进行累加，将统计后的结果存入字典变量  \n",
    "输入参数：学生成绩列表  \n",
    "返回值：学生成绩字典  \n",
    "要求：将字典的键设置为 学号+姓名"
   ]
  },
  {
   "cell_type": "code",
   "execution_count": 2,
   "metadata": {},
   "outputs": [
    {
     "data": {
      "text/plain": [
       "{'19100101张斯': 4,\n",
       " '19100102严柳': 5,\n",
       " '19100103李斯': 8,\n",
       " '19100107钱多': 3,\n",
       " '19100109林冲': 4,\n",
       " '19100110李逵': 3,\n",
       " '19100111宋江': 7,\n",
       " '19100112诸葛': 9,\n",
       " '19100113刘备': 5,\n",
       " '19100115刘邦': 3,\n",
       " '19100117关羽': 4,\n",
       " '19100118张飞': 4,\n",
       " '19100119顾城': 7,\n",
       " '19100120庞统': 1,\n",
       " '19100121武松': 2,\n",
       " '19100122赵云': 2,\n",
       " '19100123关胜': 4,\n",
       " '19100124秦明': 2,\n",
       " '19100126张清': 1,\n",
       " '19100127史进': 2}"
      ]
     },
     "execution_count": 2,
     "metadata": {},
     "output_type": "execute_result"
    }
   ],
   "source": [
    "def get_stu_score(student_score_list):\n",
    "    student_score_dictionary = {}\n",
    "    for student in student_score_list:\n",
    "        student_score = student.split()\n",
    "        student_information = student_score[0] + student_score[1]\n",
    "        student_score_dictionary[student_information] = student_score_dictionary.get(student_information,0) + int(student_score[2])\n",
    "    return student_score_dictionary\n",
    "\n",
    "get_stu_score(read_file(\"data/student_score.txt\"))"
   ]
  },
  {
   "cell_type": "markdown",
   "metadata": {},
   "source": [
    "问题3. 定义函数get_students  \n",
    "功能：找出所有未交作业学生  \n",
    "输入参数：学生成绩列表，学生列表 \n",
    "返回值：未交作业学生学号和姓名  \n",
    "提示：学生成绩列表和学生列表的转化为数组（只要学号和姓名），进行数据差运算，即可得到未交作业学生学号和姓名"
   ]
  },
  {
   "cell_type": "code",
   "execution_count": 3,
   "metadata": {},
   "outputs": [
    {
     "data": {
      "text/plain": [
       "{'19100104 高要',\n",
       " '19100105 秦侩',\n",
       " '19100106 袭人',\n",
       " '19100108 武大',\n",
       " '19100116 刘禅',\n",
       " '19100125 扬志'}"
      ]
     },
     "execution_count": 3,
     "metadata": {},
     "output_type": "execute_result"
    }
   ],
   "source": [
    "def get_students(stu_hw_lst, all_stu_lst):\n",
    "    student_homework = set([\" \".join(line.split()[0:2]) for line in stu_hw_lst])\n",
    "    all_student = set([\" \".join(line.split()[0:2]) for line in all_stu_lst])\n",
    "    no_submitted = all_student - student_homework\n",
    "    return no_submitted\n",
    "\n",
    "get_students(read_file(\"data/student_score.txt\"), read_file(\"data/student.txt\"))"
   ]
  },
  {
   "cell_type": "markdown",
   "metadata": {},
   "source": [
    "开始编写主程序"
   ]
  },
  {
   "cell_type": "markdown",
   "metadata": {},
   "source": [
    "## **任务2** 调用函数及计算\n",
    "对相关函数进行调用并利用函数计算得出结果。\n",
    "\n",
    "问题4. 读取文件student_score.txt和student.txt"
   ]
  },
  {
   "cell_type": "code",
   "execution_count": 4,
   "metadata": {},
   "outputs": [],
   "source": [
    "lst_student_hw = read_file('data/student_score.txt')\n",
    "lst_student_all = read_file('data/student.txt')"
   ]
  },
  {
   "cell_type": "markdown",
   "metadata": {},
   "source": [
    "问题5. 调用函数get_stu_score获得学生成绩字典，输出结果"
   ]
  },
  {
   "cell_type": "code",
   "execution_count": 5,
   "metadata": {},
   "outputs": [
    {
     "name": "stdout",
     "output_type": "stream",
     "text": [
      "学生的成绩汇总如下：\n",
      "19100101张斯 4\n",
      "19100102严柳 5\n",
      "19100103李斯 8\n",
      "19100107钱多 3\n",
      "19100109林冲 4\n",
      "19100110李逵 3\n",
      "19100111宋江 7\n",
      "19100112诸葛 9\n",
      "19100113刘备 5\n",
      "19100115刘邦 3\n",
      "19100117关羽 4\n",
      "19100118张飞 4\n",
      "19100119顾城 7\n",
      "19100120庞统 1\n",
      "19100121武松 2\n",
      "19100122赵云 2\n",
      "19100123关胜 4\n",
      "19100124秦明 2\n",
      "19100126张清 1\n",
      "19100127史进 2\n"
     ]
    }
   ],
   "source": [
    "stu_score_dict = get_stu_score(lst_student_hw)\n",
    "print(\"学生的成绩汇总如下：\")\n",
    "for (key, value) in stu_score_dict.items():\n",
    "    print(key, value)"
   ]
  },
  {
   "cell_type": "markdown",
   "metadata": {},
   "source": [
    "问题6. 调用函数 get_students获得未交作业学生名单，输出结果"
   ]
  },
  {
   "cell_type": "code",
   "execution_count": 6,
   "metadata": {},
   "outputs": [
    {
     "name": "stdout",
     "output_type": "stream",
     "text": [
      "未交作业的学生有： 19100106 袭人 19100105 秦侩 19100116 刘禅 19100125 扬志 19100108 武大 19100104 高要\n"
     ]
    }
   ],
   "source": [
    "stu_no = get_students(lst_student_hw, lst_student_all)\n",
    "print(\"未交作业的学生有：\", * stu_no)"
   ]
  },
  {
   "cell_type": "markdown",
   "metadata": {},
   "source": [
    "问题7. 查找成绩最高的同学，并输出  \n",
    "提示：可以使用列表推导式，遍历学生成绩字典，查找成绩为最高成绩的学生"
   ]
  },
  {
   "cell_type": "code",
   "execution_count": 7,
   "metadata": {},
   "outputs": [
    {
     "name": "stdout",
     "output_type": "stream",
     "text": [
      "成绩最高的学生有： 19100112诸葛\n"
     ]
    }
   ],
   "source": [
    "score_high = [stu for stu,score in stu_score_dict.items() if score == max(stu_score_dict.values())]\n",
    "print(\"成绩最高的学生有：\", * score_high)"
   ]
  },
  {
   "cell_type": "markdown",
   "metadata": {},
   "source": [
    "问题8. 查找成绩最低的同学，并输出  \n",
    "提示：可以使用列表推导式，遍历学生成绩字典，查找成绩为最低成绩的学生"
   ]
  },
  {
   "cell_type": "code",
   "execution_count": 8,
   "metadata": {},
   "outputs": [
    {
     "name": "stdout",
     "output_type": "stream",
     "text": [
      "成绩最低的学生有： 19100120庞统 19100126张清\n"
     ]
    }
   ],
   "source": [
    "score_low = [stu for stu,score in stu_score_dict.items() if score == min(stu_score_dict.values())]\n",
    "print(\"成绩最低的学生有：\", * score_low)"
   ]
  },
  {
   "cell_type": "markdown",
   "metadata": {},
   "source": [
    "问题9. 计算班级平均成绩，并输出结果  \n",
    "提示：利用内置函数sum和len，计算学生总成绩和总人数，然后相除得到平均分"
   ]
  },
  {
   "cell_type": "code",
   "execution_count": 9,
   "metadata": {},
   "outputs": [
    {
     "name": "stdout",
     "output_type": "stream",
     "text": [
      "成绩平均分为： 4.0\n"
     ]
    }
   ],
   "source": [
    "avg = sum(stu_score_dict.values()) / len(stu_score_dict)\n",
    "print(\"成绩平均分为：\", avg)"
   ]
  },
  {
   "cell_type": "markdown",
   "metadata": {},
   "source": [
    "# 七、实验课后任务\n",
    "\n",
    "学生应当完成本次实验涉及相关任务，完成本次Jupyter Notebook实验报告以后，应将本实验报告文件（.ipynb）按照授课教师指定方式进行上传。\n",
    "\n",
    "\n",
    "# 八、实验考核\n",
    "\n",
    "实验满分100分，共2个任务，9个问题，问题1-问题8每个11分，问题9分数12分。按照学生完成问题的程度、代码运行结果、分析结果等质量标准酌情给出对应分数。\n",
    "\n",
    "# 九、实验资源\n",
    "本实验提供实验用数据文件：  \n",
    "* 学生成绩文件：student_score.txt\n",
    "* 学生名单文件：student.txt\n"
   ]
  }
 ],
 "metadata": {
  "anaconda-cloud": {},
  "interpreter": {
   "hash": "6dffc653d8d603152ac410dd70b3295fefd05fb3f0a31211f6c43917d5589b20"
  },
  "jupytext": {
   "cell_metadata_filter": "-all",
   "formats": "ipynb,md",
   "notebook_metadata_filter": "-all"
  },
  "kernelspec": {
   "display_name": "Python 3 (ipykernel)",
   "language": "python",
   "name": "python3"
  },
  "language_info": {
   "codemirror_mode": {
    "name": "ipython",
    "version": 3
   },
   "file_extension": ".py",
   "mimetype": "text/x-python",
   "name": "python",
   "nbconvert_exporter": "python",
   "pygments_lexer": "ipython3",
   "version": "3.9.7"
  }
 },
 "nbformat": 4,
 "nbformat_minor": 1
}
